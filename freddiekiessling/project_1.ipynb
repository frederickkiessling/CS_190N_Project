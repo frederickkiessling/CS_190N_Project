{
 "cells": [
  {
   "cell_type": "code",
   "execution_count": 4,
   "metadata": {},
   "outputs": [],
   "source": [
    "import pandas as pd\n",
    "import folium\n",
    "import psycopg2\n",
    "from dotenv import load_dotenv\n",
    "import folium"
   ]
  },
  {
   "cell_type": "code",
   "execution_count": 5,
   "metadata": {},
   "outputs": [
    {
     "ename": "NameError",
     "evalue": "name 'os' is not defined",
     "output_type": "error",
     "traceback": [
      "\u001b[0;31m---------------------------------------------------------------------------\u001b[0m",
      "\u001b[0;31mNameError\u001b[0m                                 Traceback (most recent call last)",
      "\u001b[1;32m/Users/freddiekiessling/Desktop/Data_Science/CMPSC_190/project_1.ipynb Cell 2\u001b[0m line \u001b[0;36m3\n\u001b[1;32m      <a href='vscode-notebook-cell:/Users/freddiekiessling/Desktop/Data_Science/CMPSC_190/project_1.ipynb#W1sZmlsZQ%3D%3D?line=0'>1</a>\u001b[0m load_dotenv()\n\u001b[1;32m      <a href='vscode-notebook-cell:/Users/freddiekiessling/Desktop/Data_Science/CMPSC_190/project_1.ipynb#W1sZmlsZQ%3D%3D?line=1'>2</a>\u001b[0m conn \u001b[39m=\u001b[39m psycopg2\u001b[39m.\u001b[39mconnect(\n\u001b[0;32m----> <a href='vscode-notebook-cell:/Users/freddiekiessling/Desktop/Data_Science/CMPSC_190/project_1.ipynb#W1sZmlsZQ%3D%3D?line=2'>3</a>\u001b[0m     host\u001b[39m=\u001b[39mos\u001b[39m.\u001b[39mgetenv(\u001b[39m\"\u001b[39m\u001b[39mDB_HOST\u001b[39m\u001b[39m\"\u001b[39m),\n\u001b[1;32m      <a href='vscode-notebook-cell:/Users/freddiekiessling/Desktop/Data_Science/CMPSC_190/project_1.ipynb#W1sZmlsZQ%3D%3D?line=3'>4</a>\u001b[0m     database\u001b[39m=\u001b[39mos\u001b[39m.\u001b[39mgetenv(\u001b[39m\"\u001b[39m\u001b[39mDB_NAME\u001b[39m\u001b[39m\"\u001b[39m),\n\u001b[1;32m      <a href='vscode-notebook-cell:/Users/freddiekiessling/Desktop/Data_Science/CMPSC_190/project_1.ipynb#W1sZmlsZQ%3D%3D?line=4'>5</a>\u001b[0m     user\u001b[39m=\u001b[39mos\u001b[39m.\u001b[39mgetenv(\u001b[39m\"\u001b[39m\u001b[39mDB_USER\u001b[39m\u001b[39m\"\u001b[39m),\n\u001b[1;32m      <a href='vscode-notebook-cell:/Users/freddiekiessling/Desktop/Data_Science/CMPSC_190/project_1.ipynb#W1sZmlsZQ%3D%3D?line=5'>6</a>\u001b[0m     password\u001b[39m=\u001b[39mos\u001b[39m.\u001b[39mgetenv(\u001b[39m\"\u001b[39m\u001b[39mDB_PASSWORD\u001b[39m\u001b[39m\"\u001b[39m),\n\u001b[1;32m      <a href='vscode-notebook-cell:/Users/freddiekiessling/Desktop/Data_Science/CMPSC_190/project_1.ipynb#W1sZmlsZQ%3D%3D?line=6'>7</a>\u001b[0m     port\u001b[39m=\u001b[39mos\u001b[39m.\u001b[39mgetenv(\u001b[39m\"\u001b[39m\u001b[39mDB_PORT\u001b[39m\u001b[39m\"\u001b[39m),\n\u001b[1;32m      <a href='vscode-notebook-cell:/Users/freddiekiessling/Desktop/Data_Science/CMPSC_190/project_1.ipynb#W1sZmlsZQ%3D%3D?line=7'>8</a>\u001b[0m )\n\u001b[1;32m      <a href='vscode-notebook-cell:/Users/freddiekiessling/Desktop/Data_Science/CMPSC_190/project_1.ipynb#W1sZmlsZQ%3D%3D?line=8'>9</a>\u001b[0m cur \u001b[39m=\u001b[39m conn\u001b[39m.\u001b[39mcursor()\n",
      "\u001b[0;31mNameError\u001b[0m: name 'os' is not defined"
     ]
    }
   ],
   "source": [
    "load_dotenv()\n",
    "conn = psycopg2.connect(\n",
    "    host=os.getenv(\"DB_HOST\"),\n",
    "    database=os.getenv(\"DB_NAME\"),\n",
    "    user=os.getenv(\"DB_USER\"),\n",
    "    password=os.getenv(\"DB_PASSWORD\"),\n",
    "    port=os.getenv(\"DB_PORT\"),\n",
    ")\n",
    "cur = conn.cursor()"
   ]
  }
 ],
 "metadata": {
  "kernelspec": {
   "display_name": "base",
   "language": "python",
   "name": "python3"
  },
  "language_info": {
   "codemirror_mode": {
    "name": "ipython",
    "version": 3
   },
   "file_extension": ".py",
   "mimetype": "text/x-python",
   "name": "python",
   "nbconvert_exporter": "python",
   "pygments_lexer": "ipython3",
   "version": "3.10.9"
  },
  "orig_nbformat": 4
 },
 "nbformat": 4,
 "nbformat_minor": 2
}
