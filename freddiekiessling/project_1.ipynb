{
 "cells": [
  {
   "cell_type": "code",
   "execution_count": 2,
   "metadata": {},
   "outputs": [],
   "source": [
    "import pandas as pd\n",
    "import folium\n",
    "import psycopg2\n",
    "from dotenv import load_dotenv\n",
    "import folium\n",
    "import os\n",
    "import matplotlib.pyplot as plt\n",
    "import seaborn as sns\n",
    "import plotly.express as px\n"
   ]
  },
  {
   "cell_type": "code",
   "execution_count": 3,
   "metadata": {},
   "outputs": [
    {
     "name": "stdout",
     "output_type": "stream",
     "text": [
      "DB_HOST: pinot.cs.ucsb.edu\n",
      "DB_NAME: pinot\n",
      "DB_USER: cs190nf24g10\n",
      "DB_PASSWORD: YKUkr3GV\n",
      "DB_PORT: 5432\n"
     ]
    }
   ],
   "source": [
    "load_dotenv('credentials.env')\n",
    "\n",
    "# Print out the environment variables to confirm they're loaded\n",
    "print(\"DB_HOST:\", os.getenv(\"DB_HOST\"))\n",
    "print(\"DB_NAME:\", os.getenv(\"DB_NAME\"))\n",
    "print(\"DB_USER:\", os.getenv(\"DB_USER\"))\n",
    "print(\"DB_PASSWORD:\", os.getenv(\"DB_PASSWORD\"))\n",
    "print(\"DB_PORT:\", os.getenv(\"DB_PORT\"))\n",
    "\n"
   ]
  },
  {
   "cell_type": "code",
   "execution_count": 10,
   "metadata": {},
   "outputs": [
    {
     "name": "stdout",
     "output_type": "stream",
     "text": [
      "Connected successfully.\n"
     ]
    }
   ],
   "source": [
    "try:\n",
    "    conn = psycopg2.connect(\n",
    "        host=os.getenv(\"DB_HOST\"),\n",
    "        database=os.getenv(\"DB_NAME\"),\n",
    "        user=os.getenv(\"DB_USER\"),\n",
    "        password=os.getenv(\"DB_PASSWORD\"),\n",
    "        port=os.getenv(\"DB_PORT\")\n",
    "    )\n",
    "    print(\"Connected successfully.\")\n",
    "    cur = conn.cursor()\n",
    "    query = \"SELECT time, signal, packet_loss FROM public.wifistats LIMIT 100;\"\n",
    "    cur.execute(query)\n",
    "    data = cur.fetchall()\n",
    "\n",
    "    wifi_df = pd.DataFrame(data, columns=['time', 'signal (dBm)', 'packet_loss'])\n",
    "    wifi_df['time'] = pd.to_datetime(wifi_df['time'])\n",
    "except Exception as e:\n",
    "    print(\"Failed to connect to the database.\")\n",
    "    print(\"Error:\", e)"
   ]
  },
  {
   "cell_type": "code",
   "execution_count": 11,
   "metadata": {},
   "outputs": [
    {
     "name": "stdout",
     "output_type": "stream",
     "text": [
      "('raspi-e4:5f:01:ac:ed:5b', datetime.datetime(2024, 6, 24, 2, 39, 40, 280950), -66.0, 0.0)\n",
      "('raspi-e4:5f:01:8d:ca:34', datetime.datetime(2024, 6, 24, 2, 39, 40, 281437), -65.0, 0.0)\n",
      "('raspi-e4:5f:01:9c:20:81', datetime.datetime(2024, 6, 24, 2, 39, 40, 281833), -66.0, 0.0)\n",
      "('raspi-e4:5f:01:8d:07:fe', datetime.datetime(2024, 6, 24, 2, 39, 40, 282211), -75.0, 0.0)\n",
      "('raspi-e4:5f:01:8c:8a:41', datetime.datetime(2024, 6, 24, 2, 49, 55, 886456), -51.0, 0.0)\n",
      "('raspi-e4:5f:01:56:d8:f3', datetime.datetime(2024, 6, 24, 2, 49, 55, 888764), -69.0, 0.0)\n",
      "('raspi-e4:5f:01:9c:24:87', datetime.datetime(2024, 6, 24, 2, 49, 55, 889293), -53.0, 0.0)\n",
      "('raspi-e4:5f:01:72:a4:93', datetime.datetime(2024, 6, 24, 2, 49, 55, 889729), -55.0, 0.0)\n",
      "('raspi-e4:5f:01:6c:98:83', datetime.datetime(2024, 6, 24, 2, 49, 55, 890146), -46.0, 0.0)\n",
      "('raspi-e4:5f:01:8b:bc:d9', datetime.datetime(2024, 6, 24, 2, 49, 55, 890686), -58.0, 0.0)\n",
      "('raspi-e4:5f:01:a0:4a:dd', datetime.datetime(2024, 6, 24, 2, 49, 55, 891140), -40.0, 0.0)\n",
      "('raspi-e4:5f:01:a0:4a:fb', datetime.datetime(2024, 6, 24, 2, 49, 55, 891559), -59.0, 0.0)\n",
      "('raspi-e4:5f:01:88:c5:4b', datetime.datetime(2024, 6, 24, 2, 49, 55, 892034), -60.0, 0.0)\n",
      "('raspi-e4:5f:01:84:8c:af', datetime.datetime(2024, 6, 24, 2, 49, 55, 892486), -67.0, 0.0)\n",
      "('raspi-e4:5f:01:9c:25:7d', datetime.datetime(2024, 6, 24, 2, 49, 55, 893025), -61.0, 0.0)\n",
      "('raspi-e4:5f:01:8c:e3:3f', datetime.datetime(2024, 6, 24, 2, 49, 55, 893575), -66.0, 0.0)\n",
      "('raspi-e4:5f:01:ad:c9:2a', datetime.datetime(2024, 6, 24, 2, 49, 55, 894048), -54.0, 0.0)\n",
      "('raspi-e4:5f:01:88:c4:99', datetime.datetime(2024, 6, 24, 2, 49, 55, 894507), -44.0, 0.0)\n",
      "('raspi-e4:5f:01:96:01:e8', datetime.datetime(2024, 6, 24, 2, 49, 55, 895049), -54.0, 0.0)\n",
      "('raspi-e4:5f:01:9b:84:c4', datetime.datetime(2024, 6, 24, 2, 49, 55, 895543), -63.0, 0.0)\n",
      "('raspi-e4:5f:01:72:a3:1c', datetime.datetime(2024, 6, 24, 2, 49, 55, 896936), -49.0, 0.0)\n",
      "('raspi-e4:5f:01:9c:ca:3a', datetime.datetime(2024, 6, 24, 2, 49, 55, 897481), -47.0, 0.0)\n",
      "('raspi-e4:5f:01:9b:85:9c', datetime.datetime(2024, 6, 24, 2, 49, 55, 897918), -56.0, 0.0)\n",
      "('raspi-e4:5f:01:75:6a:df', datetime.datetime(2024, 6, 24, 2, 49, 55, 898334), -52.0, 0.0)\n",
      "('raspi-e4:5f:01:a0:4f:c5', datetime.datetime(2024, 6, 24, 2, 49, 55, 898750), -58.0, 0.0)\n",
      "('raspi-e4:5f:01:84:8c:99', datetime.datetime(2024, 6, 24, 2, 49, 55, 899155), -65.0, 0.0)\n",
      "('raspi-e4:5f:01:ad:c9:11', datetime.datetime(2024, 6, 24, 2, 49, 55, 899617), -62.0, 0.0)\n",
      "('raspi-e4:5f:01:72:a2:35', datetime.datetime(2024, 6, 24, 2, 49, 55, 900065), -58.0, 0.0)\n",
      "('raspi-e4:5f:01:a0:21:49', datetime.datetime(2024, 6, 24, 2, 49, 55, 900518), -47.0, 0.0)\n",
      "('raspi-e4:5f:01:a0:32:50', datetime.datetime(2024, 6, 24, 2, 49, 55, 900964), -62.0, 0.0)\n",
      "('raspi-e4:5f:01:a7:ae:70', datetime.datetime(2024, 6, 24, 2, 49, 55, 901432), -48.0, 0.0)\n",
      "('raspi-e4:5f:01:75:71:03', datetime.datetime(2024, 6, 24, 2, 49, 55, 901937), -59.0, 0.0)\n",
      "('raspi-e4:5f:01:75:54:ec', datetime.datetime(2024, 6, 24, 2, 49, 55, 902433), -55.0, 0.0)\n",
      "('raspi-e4:5f:01:a0:4e:31', datetime.datetime(2024, 6, 24, 2, 49, 55, 902848), -65.0, 0.0)\n",
      "('raspi-e4:5f:01:ac:e4:31', datetime.datetime(2024, 6, 24, 2, 49, 55, 903245), -62.0, 0.0)\n",
      "('raspi-e4:5f:01:a0:4b:01', datetime.datetime(2024, 6, 24, 2, 49, 55, 903674), -56.0, 0.0)\n",
      "('raspi-e4:5f:01:ad:c9:3f', datetime.datetime(2024, 6, 24, 2, 49, 55, 904070), -56.0, 0.0)\n",
      "('raspi-e4:5f:01:a0:50:5f', datetime.datetime(2024, 6, 24, 2, 49, 55, 904562), -57.0, 0.0)\n",
      "('raspi-e4:5f:01:6f:ed:f3', datetime.datetime(2024, 6, 24, 2, 49, 55, 904964), -55.0, 0.0)\n",
      "('raspi-e4:5f:01:9c:20:81', datetime.datetime(2024, 6, 24, 2, 49, 55, 905383), -65.0, 0.0)\n",
      "('raspi-e4:5f:01:ac:ed:5b', datetime.datetime(2024, 6, 24, 2, 49, 55, 905887), -66.0, 0.0)\n",
      "('raspi-e4:5f:01:8d:ca:34', datetime.datetime(2024, 6, 24, 2, 49, 55, 906333), -65.0, 0.0)\n",
      "('raspi-e4:5f:01:84:b3:d2', datetime.datetime(2024, 6, 24, 2, 49, 55, 906781), -43.0, 0.0)\n",
      "('raspi-e4:5f:01:a7:b1:e5', datetime.datetime(2024, 6, 24, 2, 49, 55, 907230), -51.0, 0.0)\n",
      "('raspi-e4:5f:01:a7:b1:c1', datetime.datetime(2024, 6, 24, 2, 49, 55, 907676), -58.0, 0.0)\n",
      "('raspi-e4:5f:01:8d:07:fe', datetime.datetime(2024, 6, 24, 2, 49, 55, 908121), -75.0, 0.0)\n",
      "('raspi-e4:5f:01:8d:07:57', datetime.datetime(2024, 6, 24, 2, 49, 55, 908569), -67.0, 20.0)\n",
      "('raspi-e4:5f:01:84:b3:d2', datetime.datetime(2024, 6, 24, 3, 0, 11, 530058), -44.0, 0.0)\n",
      "('raspi-e4:5f:01:56:d8:f3', datetime.datetime(2024, 6, 24, 3, 0, 11, 532304), -70.0, 0.0)\n",
      "('raspi-e4:5f:01:8c:8a:41', datetime.datetime(2024, 6, 24, 3, 0, 11, 532961), -51.0, 0.0)\n",
      "('raspi-e4:5f:01:72:a4:93', datetime.datetime(2024, 6, 24, 3, 0, 11, 533938), -55.0, 0.0)\n",
      "('raspi-e4:5f:01:8c:e3:3f', datetime.datetime(2024, 6, 24, 3, 0, 11, 534490), -66.0, 0.0)\n",
      "('raspi-e4:5f:01:9b:85:9c', datetime.datetime(2024, 6, 24, 3, 0, 11, 534923), -57.0, 0.0)\n",
      "('raspi-e4:5f:01:a7:b1:c1', datetime.datetime(2024, 6, 24, 3, 0, 11, 535357), -57.0, 0.0)\n",
      "('raspi-e4:5f:01:6c:98:83', datetime.datetime(2024, 6, 24, 3, 0, 11, 535758), -47.0, 0.0)\n",
      "('raspi-e4:5f:01:9c:ca:3a', datetime.datetime(2024, 6, 24, 3, 0, 11, 536158), -46.0, 0.0)\n",
      "('raspi-e4:5f:01:84:8c:af', datetime.datetime(2024, 6, 24, 3, 0, 11, 536553), -64.0, 0.0)\n",
      "('raspi-e4:5f:01:a0:4a:dd', datetime.datetime(2024, 6, 24, 3, 0, 11, 536949), -38.0, 0.0)\n",
      "('raspi-e4:5f:01:8b:bc:d9', datetime.datetime(2024, 6, 24, 3, 0, 11, 537518), -61.0, 0.0)\n",
      "('raspi-e4:5f:01:75:6a:df', datetime.datetime(2024, 6, 24, 3, 0, 11, 538195), -53.0, 0.0)\n",
      "('raspi-e4:5f:01:88:c5:4b', datetime.datetime(2024, 6, 24, 3, 0, 11, 538754), -59.0, 0.0)\n",
      "('raspi-e4:5f:01:96:01:e8', datetime.datetime(2024, 6, 24, 3, 0, 11, 539986), -55.0, 0.0)\n",
      "('raspi-e4:5f:01:75:54:ec', datetime.datetime(2024, 6, 24, 3, 0, 11, 540575), -55.0, 0.0)\n",
      "('raspi-e4:5f:01:a0:4a:fb', datetime.datetime(2024, 6, 24, 3, 0, 11, 541055), -60.0, 0.0)\n",
      "('raspi-e4:5f:01:75:71:03', datetime.datetime(2024, 6, 24, 3, 0, 11, 541521), -59.0, 0.0)\n",
      "('raspi-e4:5f:01:ad:c9:2a', datetime.datetime(2024, 6, 24, 3, 0, 11, 541939), -55.0, 0.0)\n",
      "('raspi-e4:5f:01:72:a3:1c', datetime.datetime(2024, 6, 24, 3, 0, 11, 542329), -49.0, 0.0)\n",
      "('raspi-e4:5f:01:88:c4:99', datetime.datetime(2024, 6, 24, 3, 0, 11, 542730), -44.0, 0.0)\n",
      "('raspi-e4:5f:01:a0:4f:c5', datetime.datetime(2024, 6, 24, 3, 0, 11, 543110), -58.0, 0.0)\n",
      "('raspi-e4:5f:01:9b:84:c4', datetime.datetime(2024, 6, 24, 3, 0, 11, 543547), -65.0, 0.0)\n",
      "('raspi-e4:5f:01:a0:21:49', datetime.datetime(2024, 6, 24, 3, 0, 11, 543995), -47.0, 0.0)\n",
      "('raspi-e4:5f:01:ad:c9:11', datetime.datetime(2024, 6, 24, 3, 0, 11, 544377), -62.0, 0.0)\n",
      "('raspi-e4:5f:01:72:a2:35', datetime.datetime(2024, 6, 24, 3, 0, 11, 544822), -58.0, 0.0)\n",
      "('raspi-e4:5f:01:9c:25:7d', datetime.datetime(2024, 6, 24, 3, 0, 11, 545271), -61.0, 0.0)\n",
      "('raspi-e4:5f:01:ac:e4:31', datetime.datetime(2024, 6, 24, 3, 0, 11, 545753), -62.0, 0.0)\n",
      "('raspi-e4:5f:01:a7:ae:70', datetime.datetime(2024, 6, 24, 3, 0, 11, 546279), -45.0, 0.0)\n",
      "('raspi-e4:5f:01:a0:50:5f', datetime.datetime(2024, 6, 24, 3, 0, 11, 546795), -57.0, 0.0)\n",
      "('raspi-e4:5f:01:a0:4e:31', datetime.datetime(2024, 6, 24, 3, 0, 11, 547226), -65.0, 0.0)\n",
      "('raspi-e4:5f:01:84:8c:99', datetime.datetime(2024, 6, 24, 3, 0, 11, 547653), -66.0, 0.0)\n",
      "('raspi-e4:5f:01:a0:32:50', datetime.datetime(2024, 6, 24, 3, 0, 11, 548038), -62.0, 0.0)\n",
      "('raspi-e4:5f:01:9c:20:81', datetime.datetime(2024, 6, 24, 3, 0, 11, 548443), -65.0, 0.0)\n",
      "('raspi-e4:5f:01:a0:4b:01', datetime.datetime(2024, 6, 24, 3, 0, 11, 548807), -57.0, 0.0)\n",
      "('raspi-e4:5f:01:ac:ed:5b', datetime.datetime(2024, 6, 24, 3, 0, 11, 549197), -66.0, 0.0)\n",
      "('raspi-e4:5f:01:ad:c9:3f', datetime.datetime(2024, 6, 24, 3, 0, 11, 549638), -56.0, 0.0)\n",
      "('raspi-e4:5f:01:8d:07:57', datetime.datetime(2024, 6, 24, 3, 0, 11, 550082), -67.0, 0.0)\n",
      "('raspi-e4:5f:01:9c:24:87', datetime.datetime(2024, 6, 24, 3, 0, 11, 550467), -53.0, 0.0)\n",
      "('raspi-e4:5f:01:8d:07:fe', datetime.datetime(2024, 6, 24, 3, 0, 11, 550901), -75.0, 0.0)\n",
      "('raspi-e4:5f:01:8d:ca:34', datetime.datetime(2024, 6, 24, 3, 0, 11, 551326), -65.0, 0.0)\n",
      "('raspi-e4:5f:01:6f:ed:f3', datetime.datetime(2024, 6, 24, 3, 0, 11, 551764), -55.0, 0.0)\n",
      "('raspi-e4:5f:01:a7:b1:e5', datetime.datetime(2024, 6, 24, 3, 0, 11, 552187), -50.0, 0.0)\n",
      "('raspi-e4:5f:01:84:b3:d2', datetime.datetime(2024, 6, 24, 3, 10, 27, 305396), -45.0, 0.0)\n",
      "('raspi-e4:5f:01:56:d8:f3', datetime.datetime(2024, 6, 24, 3, 10, 27, 307486), -70.0, 0.0)\n",
      "('raspi-e4:5f:01:a0:4a:dd', datetime.datetime(2024, 6, 24, 3, 10, 27, 308052), -38.0, 0.0)\n",
      "('raspi-e4:5f:01:84:8c:af', datetime.datetime(2024, 6, 24, 3, 10, 27, 308573), -67.0, 0.0)\n",
      "('raspi-e4:5f:01:9c:24:87', datetime.datetime(2024, 6, 24, 3, 10, 27, 309030), -53.0, 0.0)\n",
      "('raspi-e4:5f:01:8c:8a:41', datetime.datetime(2024, 6, 24, 3, 10, 27, 309483), -51.0, 0.0)\n",
      "('raspi-e4:5f:01:88:c5:4b', datetime.datetime(2024, 6, 24, 3, 10, 27, 309892), -60.0, 0.0)\n",
      "('raspi-e4:5f:01:9b:85:9c', datetime.datetime(2024, 6, 24, 3, 10, 27, 310296), -57.0, 0.0)\n",
      "('raspi-e4:5f:01:6c:98:83', datetime.datetime(2024, 6, 24, 3, 10, 27, 310688), -46.0, 0.0)\n",
      "('raspi-e4:5f:01:72:a3:1c', datetime.datetime(2024, 6, 24, 3, 10, 27, 311148), -46.0, 0.0)\n"
     ]
    }
   ],
   "source": [
    "try:\n",
    "    if conn is not None:\n",
    "        cur = conn.cursor()\n",
    "        query = \"SELECT label, time, signal, packet_loss FROM public.wifistats LIMIT 100;\"\n",
    "        cur.execute(query)\n",
    "        data = cur.fetchall()\n",
    "        for row in data:\n",
    "            print(row)\n",
    "        cur.close()\n",
    "    else:\n",
    "        print(\"Connection was not established.\")\n",
    "except Exception as e:\n",
    "    print(\"Error executing the query.\")\n",
    "    print(\"Error:\", e)"
   ]
  },
  {
   "cell_type": "code",
   "execution_count": 12,
   "metadata": {},
   "outputs": [
    {
     "name": "stdout",
     "output_type": "stream",
     "text": [
      "       signal (dBm)  packet_loss\n",
      "count     100.00000        100.0\n",
      "mean      -57.26000          0.2\n",
      "std         8.25921          2.0\n",
      "min       -75.00000          0.0\n",
      "25%       -65.00000          0.0\n",
      "50%       -57.50000          0.0\n",
      "75%       -51.75000          0.0\n",
      "max       -38.00000         20.0\n"
     ]
    },
    {
     "data": {
      "image/png": "[encoded data removed]",
      "text/plain": [
       "<Figure size 1400x700 with 1 Axes>"
      ]
     },
     "metadata": {},
     "output_type": "display_data"
    },
    {
     "data": {
      "image/png": "[encoded data removed]",
      "text/plain": [
       "<Figure size 1400x700 with 1 Axes>"
      ]
     },
     "metadata": {},
     "output_type": "display_data"
    },
    {
     "data": {
      "image/png": "[encoded data removed]",
      "text/plain": [
       "<Figure size 1000x600 with 1 Axes>"
      ]
     },
     "metadata": {},
     "output_type": "display_data"
    },
    {
     "name": "stdout",
     "output_type": "stream",
     "text": [
      "Correlation Matrix:\n",
      "               signal (dBm)  packet_loss\n",
      "signal (dBm)       1.00000     -0.11912\n",
      "packet_loss       -0.11912      1.00000\n"
     ]
    },
    {
     "data": {
      "image/png": "[encoded data removed]",
      "text/plain": [
       "<Figure size 640x480 with 2 Axes>"
      ]
     },
     "metadata": {},
     "output_type": "display_data"
    }
   ],
   "source": [
    "print(wifi_df.describe())\n",
    "\n",
    "plt.figure(figsize=(14, 7))\n",
    "plt.plot(wifi_df['time'], wifi_df['signal (dBm)'], label='Signal Strength (dBm)')\n",
    "plt.title('Signal Strength Over Time')\n",
    "plt.xlabel('Time')\n",
    "plt.ylabel('Signal Strength (dBm)')\n",
    "plt.legend()\n",
    "plt.show()\n",
    "\n",
    "plt.figure(figsize=(14, 7))\n",
    "plt.plot(wifi_df['time'], wifi_df['packet_loss'], label='Packet Loss (%)', color='red')\n",
    "plt.title('Packet Loss Over Time')\n",
    "plt.xlabel('Time')\n",
    "plt.ylabel('Packet Loss (%)')\n",
    "plt.legend()\n",
    "plt.show()\n",
    "\n",
    "plt.figure(figsize=(10, 6))\n",
    "plt.hist(wifi_df['signal (dBm)'], bins=30, alpha=0.7, color='blue')\n",
    "plt.title('Histogram of Signal Strengths')\n",
    "plt.xlabel('Signal Strength (dBm)')\n",
    "plt.ylabel('Frequency')\n",
    "plt.grid(True)\n",
    "plt.show()\n",
    "\n",
    "correlation = wifi_df[['signal (dBm)', 'packet_loss']].corr()\n",
    "print(\"Correlation Matrix:\\n\", correlation)\n",
    "\n",
    "sns.heatmap(correlation, annot=True, cmap='coolwarm')\n",
    "plt.show()"
   ]
  },
  {
   "cell_type": "code",
   "execution_count": 13,
   "metadata": {},
   "outputs": [
    {
     "data": {
      "application/vnd.plotly.v1+json": {
       "config": {
        "plotlyServerURL": "https://plot.ly"
       },
       "data": [
        {
         "hovertemplate": "time=%{x}<br>Signal Strength (dBm)=%{y}<extra></extra>",
         "legendgroup": "",
         "line": {
          "color": "#636efa",
          "dash": "solid"
         },
         "marker": {
          "symbol": "circle"
         },
         "mode": "lines",
         "name": "",
         "orientation": "v",
         "showlegend": false,
         "type": "scatter",
         "x": [
          "2024-06-24T02:39:40.280950",
          "2024-06-24T02:39:40.281437",
          "2024-06-24T02:39:40.281833",
          "2024-06-24T02:39:40.282211",
          "2024-06-24T02:49:55.886456",
          "2024-06-24T02:49:55.888764",
          "2024-06-24T02:49:55.889293",
          "2024-06-24T02:49:55.889729",
          "2024-06-24T02:49:55.890146",
          "2024-06-24T02:49:55.890686",
          "2024-06-24T02:49:55.891140",
          "2024-06-24T02:49:55.891559",
          "2024-06-24T02:49:55.892034",
          "2024-06-24T02:49:55.892486",
          "2024-06-24T02:49:55.893025",
          "2024-06-24T02:49:55.893575",
          "2024-06-24T02:49:55.894048",
          "2024-06-24T02:49:55.894507",
          "2024-06-24T02:49:55.895049",
          "2024-06-24T02:49:55.895543",
          "2024-06-24T02:49:55.896936",
          "2024-06-24T02:49:55.897481",
          "2024-06-24T02:49:55.897918",
          "2024-06-24T02:49:55.898334",
          "2024-06-24T02:49:55.898750",
          "2024-06-24T02:49:55.899155",
          "2024-06-24T02:49:55.899617",
          "2024-06-24T02:49:55.900065",
          "2024-06-24T02:49:55.900518",
          "2024-06-24T02:49:55.900964",
          "2024-06-24T02:49:55.901432",
          "2024-06-24T02:49:55.901937",
          "2024-06-24T02:49:55.902433",
          "2024-06-24T02:49:55.902848",
          "2024-06-24T02:49:55.903245",
          "2024-06-24T02:49:55.903674",
          "2024-06-24T02:49:55.904070",
          "2024-06-24T02:49:55.904562",
          "2024-06-24T02:49:55.904964",
          "2024-06-24T02:49:55.905383",
          "2024-06-24T02:49:55.905887",
          "2024-06-24T02:49:55.906333",
          "2024-06-24T02:49:55.906781",
          "2024-06-24T02:49:55.907230",
          "2024-06-24T02:49:55.907676",
          "2024-06-24T02:49:55.908121",
          "2024-06-24T02:49:55.908569",
          "2024-06-24T03:00:11.530058",
          "2024-06-24T03:00:11.532304",
          "2024-06-24T03:00:11.532961",
          "2024-06-24T03:00:11.533938",
          "2024-06-24T03:00:11.534490",
          "2024-06-24T03:00:11.534923",
          "2024-06-24T03:00:11.535357",
          "2024-06-24T03:00:11.535758",
          "2024-06-24T03:00:11.536158",
          "2024-06-24T03:00:11.536553",
          "2024-06-24T03:00:11.536949",
          "2024-06-24T03:00:11.537518",
          "2024-06-24T03:00:11.538195",
          "2024-06-24T03:00:11.538754",
          "2024-06-24T03:00:11.539986",
          "2024-06-24T03:00:11.540575",
          "2024-06-24T03:00:11.541055",
          "2024-06-24T03:00:11.541521",
          "2024-06-24T03:00:11.541939",
          "2024-06-24T03:00:11.542329",
          "2024-06-24T03:00:11.542730",
          "2024-06-24T03:00:11.543110",
          "2024-06-24T03:00:11.543547",
          "2024-06-24T03:00:11.543995",
          "2024-06-24T03:00:11.544377",
          "2024-06-24T03:00:11.544822",
          "2024-06-24T03:00:11.545271",
          "2024-06-24T03:00:11.545753",
          "2024-06-24T03:00:11.546279",
          "2024-06-24T03:00:11.546795",
          "2024-06-24T03:00:11.547226",
          "2024-06-24T03:00:11.547653",
          "2024-06-24T03:00:11.548038",
          "2024-06-24T03:00:11.548443",
          "2024-06-24T03:00:11.548807",
          "2024-06-24T03:00:11.549197",
          "2024-06-24T03:00:11.549638",
          "2024-06-24T03:00:11.550082",
          "2024-06-24T03:00:11.550467",
          "2024-06-24T03:00:11.550901",
          "2024-06-24T03:00:11.551326",
          "2024-06-24T03:00:11.551764",
          "2024-06-24T03:00:11.552187",
          "2024-06-24T03:10:27.305396",
          "2024-06-24T03:10:27.307486",
          "2024-06-24T03:10:27.308052",
          "2024-06-24T03:10:27.308573",
          "2024-06-24T03:10:27.309030",
          "2024-06-24T03:10:27.309483",
          "2024-06-24T03:10:27.309892",
          "2024-06-24T03:10:27.310296",
          "2024-06-24T03:10:27.310688",
          "2024-06-24T03:10:27.311148"
         ],
         "xaxis": "x",
         "y": [
          -66,
          -65,
          -66,
          -75,
          -51,
          -69,
          -53,
          -55,
          -46,
          -58,
          -40,
          -59,
          -60,
          -67,
          -61,
          -66,
          -54,
          -44,
          -54,
          -63,
          -49,
          -47,
          -56,
          -52,
          -58,
          -65,
          -62,
          -58,
          -47,
          -62,
          -48,
          -59,
          -55,
          -65,
          -62,
          -56,
          -56,
          -57,
          -55,
          -65,
          -66,
          -65,
          -43,
          -51,
          -58,
          -75,
          -67,
          -44,
          -70,
          -51,
          -55,
          -66,
          -57,
          -57,
          -47,
          -46,
          -64,
          -38,
          -61,
          -53,
          -59,
          -55,
          -55,
          -60,
          -59,
          -55,
          -49,
          -44,
          -58,
          -65,
          -47,
          -62,
          -58,
          -61,
          -62,
          -45,
          -57,
          -65,
          -66,
          -62,
          -65,
          -57,
          -66,
          -56,
          -67,
          -53,
          -75,
          -65,
          -55,
          -50,
          -45,
          -70,
          -38,
          -67,
          -53,
          -51,
          -60,
          -57,
          -46,
          -46
         ],
         "yaxis": "y"
        }
       ],
       "layout": {
        "legend": {
         "tracegroupgap": 0
        },
        "template": {
         "data": {
          "bar": [
           {
            "error_x": {
             "color": "#2a3f5f"
            },
            "error_y": {
             "color": "#2a3f5f"
            },
            "marker": {
             "line": {
              "color": "#E5ECF6",
              "width": 0.5
             },
             "pattern": {
              "fillmode": "overlay",
              "size": 10,
              "solidity": 0.2
             }
            },
            "type": "bar"
           }
          ],
          "barpolar": [
           {
            "marker": {
             "line": {
              "color": "#E5ECF6",
              "width": 0.5
             },
             "pattern": {
              "fillmode": "overlay",
              "size": 10,
              "solidity": 0.2
             }
            },
            "type": "barpolar"
           }
          ],
          "carpet": [
           {
            "aaxis": {
             "endlinecolor": "#2a3f5f",
             "gridcolor": "white",
             "linecolor": "white",
             "minorgridcolor": "white",
             "startlinecolor": "#2a3f5f"
            },
            "baxis": {
             "endlinecolor": "#2a3f5f",
             "gridcolor": "white",
             "linecolor": "white",
             "minorgridcolor": "white",
             "startlinecolor": "#2a3f5f"
            },
            "type": "carpet"
           }
          ],
          "choropleth": [
           {
            "colorbar": {
             "outlinewidth": 0,
             "ticks": ""
            },
            "type": "choropleth"
           }
          ],
          "contour": [
           {
            "colorbar": {
             "outlinewidth": 0,
             "ticks": ""
            },
            "colorscale": [
             [
              0,
              "#0d0887"
             ],
             [
              0.1111111111111111,
              "#46039f"
             ],
             [
              0.2222222222222222,
              "#7201a8"
             ],
             [
              0.3333333333333333,
              "#9c179e"
             ],
             [
              0.4444444444444444,
              "#bd3786"
             ],
             [
              0.5555555555555556,
              "#d8576b"
             ],
             [
              0.6666666666666666,
              "#ed7953"
             ],
             [
              0.7777777777777778,
              "#fb9f3a"
             ],
             [
              0.8888888888888888,
              "#fdca26"
             ],
             [
              1,
              "#f0f921"
             ]
            ],
            "type": "contour"
           }
          ],
          "contourcarpet": [
           {
            "colorbar": {
             "outlinewidth": 0,
             "ticks": ""
            },
            "type": "contourcarpet"
           }
          ],
          "heatmap": [
           {
            "colorbar": {
             "outlinewidth": 0,
             "ticks": ""
            },
            "colorscale": [
             [
              0,
              "#0d0887"
             ],
             [
              0.1111111111111111,
              "#46039f"
             ],
             [
              0.2222222222222222,
              "#7201a8"
             ],
             [
              0.3333333333333333,
              "#9c179e"
             ],
             [
              0.4444444444444444,
              "#bd3786"
             ],
             [
              0.5555555555555556,
              "#d8576b"
             ],
             [
              0.6666666666666666,
              "#ed7953"
             ],
             [
              0.7777777777777778,
              "#fb9f3a"
             ],
             [
              0.8888888888888888,
              "#fdca26"
             ],
             [
              1,
              "#f0f921"
             ]
            ],
            "type": "heatmap"
           }
          ],
          "heatmapgl": [
           {
            "colorbar": {
             "outlinewidth": 0,
             "ticks": ""
            },
            "colorscale": [
             [
              0,
              "#0d0887"
             ],
             [
              0.1111111111111111,
              "#46039f"
             ],
             [
              0.2222222222222222,
              "#7201a8"
             ],
             [
              0.3333333333333333,
              "#9c179e"
             ],
             [
              0.4444444444444444,
              "#bd3786"
             ],
             [
              0.5555555555555556,
              "#d8576b"
             ],
             [
              0.6666666666666666,
              "#ed7953"
             ],
             [
              0.7777777777777778,
              "#fb9f3a"
             ],
             [
              0.8888888888888888,
              "#fdca26"
             ],
             [
              1,
              "#f0f921"
             ]
            ],
            "type": "heatmapgl"
           }
          ],
          "histogram": [
           {
            "marker": {
             "pattern": {
              "fillmode": "overlay",
              "size": 10,
              "solidity": 0.2
             }
            },
            "type": "histogram"
           }
          ],
          "histogram2d": [
           {
            "colorbar": {
             "outlinewidth": 0,
             "ticks": ""
            },
            "colorscale": [
             [
              0,
              "#0d0887"
             ],
             [
              0.1111111111111111,
              "#46039f"
             ],
             [
              0.2222222222222222,
              "#7201a8"
             ],
             [
              0.3333333333333333,
              "#9c179e"
             ],
             [
              0.4444444444444444,
              "#bd3786"
             ],
             [
              0.5555555555555556,
              "#d8576b"
             ],
             [
              0.6666666666666666,
              "#ed7953"
             ],
             [
              0.7777777777777778,
              "#fb9f3a"
             ],
             [
              0.8888888888888888,
              "#fdca26"
             ],
             [
              1,
              "#f0f921"
             ]
            ],
            "type": "histogram2d"
           }
          ],
          "histogram2dcontour": [
           {
            "colorbar": {
             "outlinewidth": 0,
             "ticks": ""
            },
            "colorscale": [
             [
              0,
              "#0d0887"
             ],
             [
              0.1111111111111111,
              "#46039f"
             ],
             [
              0.2222222222222222,
              "#7201a8"
             ],
             [
              0.3333333333333333,
              "#9c179e"
             ],
             [
              0.4444444444444444,
              "#bd3786"
             ],
             [
              0.5555555555555556,
              "#d8576b"
             ],
             [
              0.6666666666666666,
              "#ed7953"
             ],
             [
              0.7777777777777778,
              "#fb9f3a"
             ],
             [
              0.8888888888888888,
              "#fdca26"
             ],
             [
              1,
              "#f0f921"
             ]
            ],
            "type": "histogram2dcontour"
           }
          ],
          "mesh3d": [
           {
            "colorbar": {
             "outlinewidth": 0,
             "ticks": ""
            },
            "type": "mesh3d"
           }
          ],
          "parcoords": [
           {
            "line": {
             "colorbar": {
              "outlinewidth": 0,
              "ticks": ""
             }
            },
            "type": "parcoords"
           }
          ],
          "pie": [
           {
            "automargin": true,
            "type": "pie"
           }
          ],
          "scatter": [
           {
            "fillpattern": {
             "fillmode": "overlay",
             "size": 10,
             "solidity": 0.2
            },
            "type": "scatter"
           }
          ],
          "scatter3d": [
           {
            "line": {
             "colorbar": {
              "outlinewidth": 0,
              "ticks": ""
             }
            },
            "marker": {
             "colorbar": {
              "outlinewidth": 0,
              "ticks": ""
             }
            },
            "type": "scatter3d"
           }
          ],
          "scattercarpet": [
           {
            "marker": {
             "colorbar": {
              "outlinewidth": 0,
              "ticks": ""
             }
            },
            "type": "scattercarpet"
           }
          ],
          "scattergeo": [
           {
            "marker": {
             "colorbar": {
              "outlinewidth": 0,
              "ticks": ""
             }
            },
            "type": "scattergeo"
           }
          ],
          "scattergl": [
           {
            "marker": {
             "colorbar": {
              "outlinewidth": 0,
              "ticks": ""
             }
            },
            "type": "scattergl"
           }
          ],
          "scattermapbox": [
           {
            "marker": {
             "colorbar": {
              "outlinewidth": 0,
              "ticks": ""
             }
            },
            "type": "scattermapbox"
           }
          ],
          "scatterpolar": [
           {
            "marker": {
             "colorbar": {
              "outlinewidth": 0,
              "ticks": ""
             }
            },
            "type": "scatterpolar"
           }
          ],
          "scatterpolargl": [
           {
            "marker": {
             "colorbar": {
              "outlinewidth": 0,
              "ticks": ""
             }
            },
            "type": "scatterpolargl"
           }
          ],
          "scatterternary": [
           {
            "marker": {
             "colorbar": {
              "outlinewidth": 0,
              "ticks": ""
             }
            },
            "type": "scatterternary"
           }
          ],
          "surface": [
           {
            "colorbar": {
             "outlinewidth": 0,
             "ticks": ""
            },
            "colorscale": [
             [
              0,
              "#0d0887"
             ],
             [
              0.1111111111111111,
              "#46039f"
             ],
             [
              0.2222222222222222,
              "#7201a8"
             ],
             [
              0.3333333333333333,
              "#9c179e"
             ],
             [
              0.4444444444444444,
              "#bd3786"
             ],
             [
              0.5555555555555556,
              "#d8576b"
             ],
             [
              0.6666666666666666,
              "#ed7953"
             ],
             [
              0.7777777777777778,
              "#fb9f3a"
             ],
             [
              0.8888888888888888,
              "#fdca26"
             ],
             [
              1,
              "#f0f921"
             ]
            ],
            "type": "surface"
           }
          ],
          "table": [
           {
            "cells": {
             "fill": {
              "color": "#EBF0F8"
             },
             "line": {
              "color": "white"
             }
            },
            "header": {
             "fill": {
              "color": "#C8D4E3"
             },
             "line": {
              "color": "white"
             }
            },
            "type": "table"
           }
          ]
         },
         "layout": {
          "annotationdefaults": {
           "arrowcolor": "#2a3f5f",
           "arrowhead": 0,
           "arrowwidth": 1
          },
          "autotypenumbers": "strict",
          "coloraxis": {
           "colorbar": {
            "outlinewidth": 0,
            "ticks": ""
           }
          },
          "colorscale": {
           "diverging": [
            [
             0,
             "#8e0152"
            ],
            [
             0.1,
             "#c51b7d"
            ],
            [
             0.2,
             "#de77ae"
            ],
            [
             0.3,
             "#f1b6da"
            ],
            [
             0.4,
             "#fde0ef"
            ],
            [
             0.5,
             "#f7f7f7"
            ],
            [
             0.6,
             "#e6f5d0"
            ],
            [
             0.7,
             "#b8e186"
            ],
            [
             0.8,
             "#7fbc41"
            ],
            [
             0.9,
             "#4d9221"
            ],
            [
             1,
             "#276419"
            ]
           ],
           "sequential": [
            [
             0,
             "#0d0887"
            ],
            [
             0.1111111111111111,
             "#46039f"
            ],
            [
             0.2222222222222222,
             "#7201a8"
            ],
            [
             0.3333333333333333,
             "#9c179e"
            ],
            [
             0.4444444444444444,
             "#bd3786"
            ],
            [
             0.5555555555555556,
             "#d8576b"
            ],
            [
             0.6666666666666666,
             "#ed7953"
            ],
            [
             0.7777777777777778,
             "#fb9f3a"
            ],
            [
             0.8888888888888888,
             "#fdca26"
            ],
            [
             1,
             "#f0f921"
            ]
           ],
           "sequentialminus": [
            [
             0,
             "#0d0887"
            ],
            [
             0.1111111111111111,
             "#46039f"
            ],
            [
             0.2222222222222222,
             "#7201a8"
            ],
            [
             0.3333333333333333,
             "#9c179e"
            ],
            [
             0.4444444444444444,
             "#bd3786"
            ],
            [
             0.5555555555555556,
             "#d8576b"
            ],
            [
             0.6666666666666666,
             "#ed7953"
            ],
            [
             0.7777777777777778,
             "#fb9f3a"
            ],
            [
             0.8888888888888888,
             "#fdca26"
            ],
            [
             1,
             "#f0f921"
            ]
           ]
          },
          "colorway": [
           "#636efa",
           "#EF553B",
           "#00cc96",
           "#ab63fa",
           "#FFA15A",
           "#19d3f3",
           "#FF6692",
           "#B6E880",
           "#FF97FF",
           "#FECB52"
          ],
          "font": {
           "color": "#2a3f5f"
          },
          "geo": {
           "bgcolor": "white",
           "lakecolor": "white",
           "landcolor": "#E5ECF6",
           "showlakes": true,
           "showland": true,
           "subunitcolor": "white"
          },
          "hoverlabel": {
           "align": "left"
          },
          "hovermode": "closest",
          "mapbox": {
           "style": "light"
          },
          "paper_bgcolor": "white",
          "plot_bgcolor": "#E5ECF6",
          "polar": {
           "angularaxis": {
            "gridcolor": "white",
            "linecolor": "white",
            "ticks": ""
           },
           "bgcolor": "#E5ECF6",
           "radialaxis": {
            "gridcolor": "white",
            "linecolor": "white",
            "ticks": ""
           }
          },
          "scene": {
           "xaxis": {
            "backgroundcolor": "#E5ECF6",
            "gridcolor": "white",
            "gridwidth": 2,
            "linecolor": "white",
            "showbackground": true,
            "ticks": "",
            "zerolinecolor": "white"
           },
           "yaxis": {
            "backgroundcolor": "#E5ECF6",
            "gridcolor": "white",
            "gridwidth": 2,
            "linecolor": "white",
            "showbackground": true,
            "ticks": "",
            "zerolinecolor": "white"
           },
           "zaxis": {
            "backgroundcolor": "#E5ECF6",
            "gridcolor": "white",
            "gridwidth": 2,
            "linecolor": "white",
            "showbackground": true,
            "ticks": "",
            "zerolinecolor": "white"
           }
          },
          "shapedefaults": {
           "line": {
            "color": "#2a3f5f"
           }
          },
          "ternary": {
           "aaxis": {
            "gridcolor": "white",
            "linecolor": "white",
            "ticks": ""
           },
           "baxis": {
            "gridcolor": "white",
            "linecolor": "white",
            "ticks": ""
           },
           "bgcolor": "#E5ECF6",
           "caxis": {
            "gridcolor": "white",
            "linecolor": "white",
            "ticks": ""
           }
          },
          "title": {
           "x": 0.05
          },
          "xaxis": {
           "automargin": true,
           "gridcolor": "white",
           "linecolor": "white",
           "ticks": "",
           "title": {
            "standoff": 15
           },
           "zerolinecolor": "white",
           "zerolinewidth": 2
          },
          "yaxis": {
           "automargin": true,
           "gridcolor": "white",
           "linecolor": "white",
           "ticks": "",
           "title": {
            "standoff": 15
           },
           "zerolinecolor": "white",
           "zerolinewidth": 2
          }
         }
        },
        "title": {
         "text": "Signal Strength Over Time"
        },
        "xaxis": {
         "anchor": "y",
         "domain": [
          0,
          1
         ],
         "rangeslider": {
          "visible": true
         },
         "title": {
          "text": "time"
         }
        },
        "yaxis": {
         "anchor": "x",
         "domain": [
          0,
          1
         ],
         "title": {
          "text": "Signal Strength (dBm)"
         }
        }
       }
      }
     },
     "metadata": {},
     "output_type": "display_data"
    },
    {
     "data": {
      "application/vnd.plotly.v1+json": {
       "config": {
        "plotlyServerURL": "https://plot.ly"
       },
       "data": [
        {
         "hovertemplate": "time=%{x}<br>Packet Loss (%)=%{y}<extra></extra>",
         "legendgroup": "",
         "line": {
          "color": "#636efa",
          "dash": "solid"
         },
         "marker": {
          "symbol": "circle"
         },
         "mode": "lines",
         "name": "",
         "orientation": "v",
         "showlegend": false,
         "type": "scatter",
         "x": [
          "2024-06-24T02:39:40.280950",
          "2024-06-24T02:39:40.281437",
          "2024-06-24T02:39:40.281833",
          "2024-06-24T02:39:40.282211",
          "2024-06-24T02:49:55.886456",
          "2024-06-24T02:49:55.888764",
          "2024-06-24T02:49:55.889293",
          "2024-06-24T02:49:55.889729",
          "2024-06-24T02:49:55.890146",
          "2024-06-24T02:49:55.890686",
          "2024-06-24T02:49:55.891140",
          "2024-06-24T02:49:55.891559",
          "2024-06-24T02:49:55.892034",
          "2024-06-24T02:49:55.892486",
          "2024-06-24T02:49:55.893025",
          "2024-06-24T02:49:55.893575",
          "2024-06-24T02:49:55.894048",
          "2024-06-24T02:49:55.894507",
          "2024-06-24T02:49:55.895049",
          "2024-06-24T02:49:55.895543",
          "2024-06-24T02:49:55.896936",
          "2024-06-24T02:49:55.897481",
          "2024-06-24T02:49:55.897918",
          "2024-06-24T02:49:55.898334",
          "2024-06-24T02:49:55.898750",
          "2024-06-24T02:49:55.899155",
          "2024-06-24T02:49:55.899617",
          "2024-06-24T02:49:55.900065",
          "2024-06-24T02:49:55.900518",
          "2024-06-24T02:49:55.900964",
          "2024-06-24T02:49:55.901432",
          "2024-06-24T02:49:55.901937",
          "2024-06-24T02:49:55.902433",
          "2024-06-24T02:49:55.902848",
          "2024-06-24T02:49:55.903245",
          "2024-06-24T02:49:55.903674",
          "2024-06-24T02:49:55.904070",
          "2024-06-24T02:49:55.904562",
          "2024-06-24T02:49:55.904964",
          "2024-06-24T02:49:55.905383",
          "2024-06-24T02:49:55.905887",
          "2024-06-24T02:49:55.906333",
          "2024-06-24T02:49:55.906781",
          "2024-06-24T02:49:55.907230",
          "2024-06-24T02:49:55.907676",
          "2024-06-24T02:49:55.908121",
          "2024-06-24T02:49:55.908569",
          "2024-06-24T03:00:11.530058",
          "2024-06-24T03:00:11.532304",
          "2024-06-24T03:00:11.532961",
          "2024-06-24T03:00:11.533938",
          "2024-06-24T03:00:11.534490",
          "2024-06-24T03:00:11.534923",
          "2024-06-24T03:00:11.535357",
          "2024-06-24T03:00:11.535758",
          "2024-06-24T03:00:11.536158",
          "2024-06-24T03:00:11.536553",
          "2024-06-24T03:00:11.536949",
          "2024-06-24T03:00:11.537518",
          "2024-06-24T03:00:11.538195",
          "2024-06-24T03:00:11.538754",
          "2024-06-24T03:00:11.539986",
          "2024-06-24T03:00:11.540575",
          "2024-06-24T03:00:11.541055",
          "2024-06-24T03:00:11.541521",
          "2024-06-24T03:00:11.541939",
          "2024-06-24T03:00:11.542329",
          "2024-06-24T03:00:11.542730",
          "2024-06-24T03:00:11.543110",
          "2024-06-24T03:00:11.543547",
          "2024-06-24T03:00:11.543995",
          "2024-06-24T03:00:11.544377",
          "2024-06-24T03:00:11.544822",
          "2024-06-24T03:00:11.545271",
          "2024-06-24T03:00:11.545753",
          "2024-06-24T03:00:11.546279",
          "2024-06-24T03:00:11.546795",
          "2024-06-24T03:00:11.547226",
          "2024-06-24T03:00:11.547653",
          "2024-06-24T03:00:11.548038",
          "2024-06-24T03:00:11.548443",
          "2024-06-24T03:00:11.548807",
          "2024-06-24T03:00:11.549197",
          "2024-06-24T03:00:11.549638",
          "2024-06-24T03:00:11.550082",
          "2024-06-24T03:00:11.550467",
          "2024-06-24T03:00:11.550901",
          "2024-06-24T03:00:11.551326",
          "2024-06-24T03:00:11.551764",
          "2024-06-24T03:00:11.552187",
          "2024-06-24T03:10:27.305396",
          "2024-06-24T03:10:27.307486",
          "2024-06-24T03:10:27.308052",
          "2024-06-24T03:10:27.308573",
          "2024-06-24T03:10:27.309030",
          "2024-06-24T03:10:27.309483",
          "2024-06-24T03:10:27.309892",
          "2024-06-24T03:10:27.310296",
          "2024-06-24T03:10:27.310688",
          "2024-06-24T03:10:27.311148"
         ],
         "xaxis": "x",
         "y": [
          0,
          0,
          0,
          0,
          0,
          0,
          0,
          0,
          0,
          0,
          0,
          0,
          0,
          0,
          0,
          0,
          0,
          0,
          0,
          0,
          0,
          0,
          0,
          0,
          0,
          0,
          0,
          0,
          0,
          0,
          0,
          0,
          0,
          0,
          0,
          0,
          0,
          0,
          0,
          0,
          0,
          0,
          0,
          0,
          0,
          0,
          20,
          0,
          0,
          0,
          0,
          0,
          0,
          0,
          0,
          0,
          0,
          0,
          0,
          0,
          0,
          0,
          0,
          0,
          0,
          0,
          0,
          0,
          0,
          0,
          0,
          0,
          0,
          0,
          0,
          0,
          0,
          0,
          0,
          0,
          0,
          0,
          0,
          0,
          0,
          0,
          0,
          0,
          0,
          0,
          0,
          0,
          0,
          0,
          0,
          0,
          0,
          0,
          0,
          0
         ],
         "yaxis": "y"
        }
       ],
       "layout": {
        "legend": {
         "tracegroupgap": 0
        },
        "template": {
         "data": {
          "bar": [
           {
            "error_x": {
             "color": "#2a3f5f"
            },
            "error_y": {
             "color": "#2a3f5f"
            },
            "marker": {
             "line": {
              "color": "#E5ECF6",
              "width": 0.5
             },
             "pattern": {
              "fillmode": "overlay",
              "size": 10,
              "solidity": 0.2
             }
            },
            "type": "bar"
           }
          ],
          "barpolar": [
           {
            "marker": {
             "line": {
              "color": "#E5ECF6",
              "width": 0.5
             },
             "pattern": {
              "fillmode": "overlay",
              "size": 10,
              "solidity": 0.2
             }
            },
            "type": "barpolar"
           }
          ],
          "carpet": [
           {
            "aaxis": {
             "endlinecolor": "#2a3f5f",
             "gridcolor": "white",
             "linecolor": "white",
             "minorgridcolor": "white",
             "startlinecolor": "#2a3f5f"
            },
            "baxis": {
             "endlinecolor": "#2a3f5f",
             "gridcolor": "white",
             "linecolor": "white",
             "minorgridcolor": "white",
             "startlinecolor": "#2a3f5f"
            },
            "type": "carpet"
           }
          ],
          "choropleth": [
           {
            "colorbar": {
             "outlinewidth": 0,
             "ticks": ""
            },
            "type": "choropleth"
           }
          ],
          "contour": [
           {
            "colorbar": {
             "outlinewidth": 0,
             "ticks": ""
            },
            "colorscale": [
             [
              0,
              "#0d0887"
             ],
             [
              0.1111111111111111,
              "#46039f"
             ],
             [
              0.2222222222222222,
              "#7201a8"
             ],
             [
              0.3333333333333333,
              "#9c179e"
             ],
             [
              0.4444444444444444,
              "#bd3786"
             ],
             [
              0.5555555555555556,
              "#d8576b"
             ],
             [
              0.6666666666666666,
              "#ed7953"
             ],
             [
              0.7777777777777778,
              "#fb9f3a"
             ],
             [
              0.8888888888888888,
              "#fdca26"
             ],
             [
              1,
              "#f0f921"
             ]
            ],
            "type": "contour"
           }
          ],
          "contourcarpet": [
           {
            "colorbar": {
             "outlinewidth": 0,
             "ticks": ""
            },
            "type": "contourcarpet"
           }
          ],
          "heatmap": [
           {
            "colorbar": {
             "outlinewidth": 0,
             "ticks": ""
            },
            "colorscale": [
             [
              0,
              "#0d0887"
             ],
             [
              0.1111111111111111,
              "#46039f"
             ],
             [
              0.2222222222222222,
              "#7201a8"
             ],
             [
              0.3333333333333333,
              "#9c179e"
             ],
             [
              0.4444444444444444,
              "#bd3786"
             ],
             [
              0.5555555555555556,
              "#d8576b"
             ],
             [
              0.6666666666666666,
              "#ed7953"
             ],
             [
              0.7777777777777778,
              "#fb9f3a"
             ],
             [
              0.8888888888888888,
              "#fdca26"
             ],
             [
              1,
              "#f0f921"
             ]
            ],
            "type": "heatmap"
           }
          ],
          "heatmapgl": [
           {
            "colorbar": {
             "outlinewidth": 0,
             "ticks": ""
            },
            "colorscale": [
             [
              0,
              "#0d0887"
             ],
             [
              0.1111111111111111,
              "#46039f"
             ],
             [
              0.2222222222222222,
              "#7201a8"
             ],
             [
              0.3333333333333333,
              "#9c179e"
             ],
             [
              0.4444444444444444,
              "#bd3786"
             ],
             [
              0.5555555555555556,
              "#d8576b"
             ],
             [
              0.6666666666666666,
              "#ed7953"
             ],
             [
              0.7777777777777778,
              "#fb9f3a"
             ],
             [
              0.8888888888888888,
              "#fdca26"
             ],
             [
              1,
              "#f0f921"
             ]
            ],
            "type": "heatmapgl"
           }
          ],
          "histogram": [
           {
            "marker": {
             "pattern": {
              "fillmode": "overlay",
              "size": 10,
              "solidity": 0.2
             }
            },
            "type": "histogram"
           }
          ],
          "histogram2d": [
           {
            "colorbar": {
             "outlinewidth": 0,
             "ticks": ""
            },
            "colorscale": [
             [
              0,
              "#0d0887"
             ],
             [
              0.1111111111111111,
              "#46039f"
             ],
             [
              0.2222222222222222,
              "#7201a8"
             ],
             [
              0.3333333333333333,
              "#9c179e"
             ],
             [
              0.4444444444444444,
              "#bd3786"
             ],
             [
              0.5555555555555556,
              "#d8576b"
             ],
             [
              0.6666666666666666,
              "#ed7953"
             ],
             [
              0.7777777777777778,
              "#fb9f3a"
             ],
             [
              0.8888888888888888,
              "#fdca26"
             ],
             [
              1,
              "#f0f921"
             ]
            ],
            "type": "histogram2d"
           }
          ],
          "histogram2dcontour": [
           {
            "colorbar": {
             "outlinewidth": 0,
             "ticks": ""
            },
            "colorscale": [
             [
              0,
              "#0d0887"
             ],
             [
              0.1111111111111111,
              "#46039f"
             ],
             [
              0.2222222222222222,
              "#7201a8"
             ],
             [
              0.3333333333333333,
              "#9c179e"
             ],
             [
              0.4444444444444444,
              "#bd3786"
             ],
             [
              0.5555555555555556,
              "#d8576b"
             ],
             [
              0.6666666666666666,
              "#ed7953"
             ],
             [
              0.7777777777777778,
              "#fb9f3a"
             ],
             [
              0.8888888888888888,
              "#fdca26"
             ],
             [
              1,
              "#f0f921"
             ]
            ],
            "type": "histogram2dcontour"
           }
          ],
          "mesh3d": [
           {
            "colorbar": {
             "outlinewidth": 0,
             "ticks": ""
            },
            "type": "mesh3d"
           }
          ],
          "parcoords": [
           {
            "line": {
             "colorbar": {
              "outlinewidth": 0,
              "ticks": ""
             }
            },
            "type": "parcoords"
           }
          ],
          "pie": [
           {
            "automargin": true,
            "type": "pie"
           }
          ],
          "scatter": [
           {
            "fillpattern": {
             "fillmode": "overlay",
             "size": 10,
             "solidity": 0.2
            },
            "type": "scatter"
           }
          ],
          "scatter3d": [
           {
            "line": {
             "colorbar": {
              "outlinewidth": 0,
              "ticks": ""
             }
            },
            "marker": {
             "colorbar": {
              "outlinewidth": 0,
              "ticks": ""
             }
            },
            "type": "scatter3d"
           }
          ],
          "scattercarpet": [
           {
            "marker": {
             "colorbar": {
              "outlinewidth": 0,
              "ticks": ""
             }
            },
            "type": "scattercarpet"
           }
          ],
          "scattergeo": [
           {
            "marker": {
             "colorbar": {
              "outlinewidth": 0,
              "ticks": ""
             }
            },
            "type": "scattergeo"
           }
          ],
          "scattergl": [
           {
            "marker": {
             "colorbar": {
              "outlinewidth": 0,
              "ticks": ""
             }
            },
            "type": "scattergl"
           }
          ],
          "scattermapbox": [
           {
            "marker": {
             "colorbar": {
              "outlinewidth": 0,
              "ticks": ""
             }
            },
            "type": "scattermapbox"
           }
          ],
          "scatterpolar": [
           {
            "marker": {
             "colorbar": {
              "outlinewidth": 0,
              "ticks": ""
             }
            },
            "type": "scatterpolar"
           }
          ],
          "scatterpolargl": [
           {
            "marker": {
             "colorbar": {
              "outlinewidth": 0,
              "ticks": ""
             }
            },
            "type": "scatterpolargl"
           }
          ],
          "scatterternary": [
           {
            "marker": {
             "colorbar": {
              "outlinewidth": 0,
              "ticks": ""
             }
            },
            "type": "scatterternary"
           }
          ],
          "surface": [
           {
            "colorbar": {
             "outlinewidth": 0,
             "ticks": ""
            },
            "colorscale": [
             [
              0,
              "#0d0887"
             ],
             [
              0.1111111111111111,
              "#46039f"
             ],
             [
              0.2222222222222222,
              "#7201a8"
             ],
             [
              0.3333333333333333,
              "#9c179e"
             ],
             [
              0.4444444444444444,
              "#bd3786"
             ],
             [
              0.5555555555555556,
              "#d8576b"
             ],
             [
              0.6666666666666666,
              "#ed7953"
             ],
             [
              0.7777777777777778,
              "#fb9f3a"
             ],
             [
              0.8888888888888888,
              "#fdca26"
             ],
             [
              1,
              "#f0f921"
             ]
            ],
            "type": "surface"
           }
          ],
          "table": [
           {
            "cells": {
             "fill": {
              "color": "#EBF0F8"
             },
             "line": {
              "color": "white"
             }
            },
            "header": {
             "fill": {
              "color": "#C8D4E3"
             },
             "line": {
              "color": "white"
             }
            },
            "type": "table"
           }
          ]
         },
         "layout": {
          "annotationdefaults": {
           "arrowcolor": "#2a3f5f",
           "arrowhead": 0,
           "arrowwidth": 1
          },
          "autotypenumbers": "strict",
          "coloraxis": {
           "colorbar": {
            "outlinewidth": 0,
            "ticks": ""
           }
          },
          "colorscale": {
           "diverging": [
            [
             0,
             "#8e0152"
            ],
            [
             0.1,
             "#c51b7d"
            ],
            [
             0.2,
             "#de77ae"
            ],
            [
             0.3,
             "#f1b6da"
            ],
            [
             0.4,
             "#fde0ef"
            ],
            [
             0.5,
             "#f7f7f7"
            ],
            [
             0.6,
             "#e6f5d0"
            ],
            [
             0.7,
             "#b8e186"
            ],
            [
             0.8,
             "#7fbc41"
            ],
            [
             0.9,
             "#4d9221"
            ],
            [
             1,
             "#276419"
            ]
           ],
           "sequential": [
            [
             0,
             "#0d0887"
            ],
            [
             0.1111111111111111,
             "#46039f"
            ],
            [
             0.2222222222222222,
             "#7201a8"
            ],
            [
             0.3333333333333333,
             "#9c179e"
            ],
            [
             0.4444444444444444,
             "#bd3786"
            ],
            [
             0.5555555555555556,
             "#d8576b"
            ],
            [
             0.6666666666666666,
             "#ed7953"
            ],
            [
             0.7777777777777778,
             "#fb9f3a"
            ],
            [
             0.8888888888888888,
             "#fdca26"
            ],
            [
             1,
             "#f0f921"
            ]
           ],
           "sequentialminus": [
            [
             0,
             "#0d0887"
            ],
            [
             0.1111111111111111,
             "#46039f"
            ],
            [
             0.2222222222222222,
             "#7201a8"
            ],
            [
             0.3333333333333333,
             "#9c179e"
            ],
            [
             0.4444444444444444,
             "#bd3786"
            ],
            [
             0.5555555555555556,
             "#d8576b"
            ],
            [
             0.6666666666666666,
             "#ed7953"
            ],
            [
             0.7777777777777778,
             "#fb9f3a"
            ],
            [
             0.8888888888888888,
             "#fdca26"
            ],
            [
             1,
             "#f0f921"
            ]
           ]
          },
          "colorway": [
           "#636efa",
           "#EF553B",
           "#00cc96",
           "#ab63fa",
           "#FFA15A",
           "#19d3f3",
           "#FF6692",
           "#B6E880",
           "#FF97FF",
           "#FECB52"
          ],
          "font": {
           "color": "#2a3f5f"
          },
          "geo": {
           "bgcolor": "white",
           "lakecolor": "white",
           "landcolor": "#E5ECF6",
           "showlakes": true,
           "showland": true,
           "subunitcolor": "white"
          },
          "hoverlabel": {
           "align": "left"
          },
          "hovermode": "closest",
          "mapbox": {
           "style": "light"
          },
          "paper_bgcolor": "white",
          "plot_bgcolor": "#E5ECF6",
          "polar": {
           "angularaxis": {
            "gridcolor": "white",
            "linecolor": "white",
            "ticks": ""
           },
           "bgcolor": "#E5ECF6",
           "radialaxis": {
            "gridcolor": "white",
            "linecolor": "white",
            "ticks": ""
           }
          },
          "scene": {
           "xaxis": {
            "backgroundcolor": "#E5ECF6",
            "gridcolor": "white",
            "gridwidth": 2,
            "linecolor": "white",
            "showbackground": true,
            "ticks": "",
            "zerolinecolor": "white"
           },
           "yaxis": {
            "backgroundcolor": "#E5ECF6",
            "gridcolor": "white",
            "gridwidth": 2,
            "linecolor": "white",
            "showbackground": true,
            "ticks": "",
            "zerolinecolor": "white"
           },
           "zaxis": {
            "backgroundcolor": "#E5ECF6",
            "gridcolor": "white",
            "gridwidth": 2,
            "linecolor": "white",
            "showbackground": true,
            "ticks": "",
            "zerolinecolor": "white"
           }
          },
          "shapedefaults": {
           "line": {
            "color": "#2a3f5f"
           }
          },
          "ternary": {
           "aaxis": {
            "gridcolor": "white",
            "linecolor": "white",
            "ticks": ""
           },
           "baxis": {
            "gridcolor": "white",
            "linecolor": "white",
            "ticks": ""
           },
           "bgcolor": "#E5ECF6",
           "caxis": {
            "gridcolor": "white",
            "linecolor": "white",
            "ticks": ""
           }
          },
          "title": {
           "x": 0.05
          },
          "xaxis": {
           "automargin": true,
           "gridcolor": "white",
           "linecolor": "white",
           "ticks": "",
           "title": {
            "standoff": 15
           },
           "zerolinecolor": "white",
           "zerolinewidth": 2
          },
          "yaxis": {
           "automargin": true,
           "gridcolor": "white",
           "linecolor": "white",
           "ticks": "",
           "title": {
            "standoff": 15
           },
           "zerolinecolor": "white",
           "zerolinewidth": 2
          }
         }
        },
        "title": {
         "text": "Packet Loss Over Time"
        },
        "xaxis": {
         "anchor": "y",
         "domain": [
          0,
          1
         ],
         "rangeslider": {
          "visible": true
         },
         "title": {
          "text": "time"
         }
        },
        "yaxis": {
         "anchor": "x",
         "domain": [
          0,
          1
         ],
         "title": {
          "text": "Packet Loss (%)"
         }
        }
       }
      }
     },
     "metadata": {},
     "output_type": "display_data"
    }
   ],
   "source": [
    "cur = conn.cursor()\n",
    "query = \"SELECT time, signal, packet_loss FROM public.wifistats LIMIT 100;\"\n",
    "cur.execute(query)\n",
    "data = cur.fetchall()\n",
    "wifi_df = pd.DataFrame(data, columns=['time', 'signal (dBm)', 'packet_loss'])\n",
    "wifi_df['time'] = pd.to_datetime(wifi_df['time'])\n",
    "fig_signal = px.line(wifi_df, x='time', y='signal (dBm)', title='Signal Strength Over Time', labels={'signal (dBm)': 'Signal Strength (dBm)'})\n",
    "fig_signal.update_xaxes(rangeslider_visible=True)\n",
    "fig_signal.show()\n",
    "fig_loss = px.line(wifi_df, x='time', y='packet_loss', title='Packet Loss Over Time', labels={'packet_loss': 'Packet Loss (%)'})\n",
    "fig_loss.update_xaxes(rangeslider_visible=True)\n",
    "fig_loss.show()"
   ]
  }
 ],
 "metadata": {
  "kernelspec": {
   "display_name": "base",
   "language": "python",
   "name": "python3"
  },
  "language_info": {
   "codemirror_mode": {
    "name": "ipython",
    "version": 3
   },
   "file_extension": ".py",
   "mimetype": "text/x-python",
   "name": "python",
   "nbconvert_exporter": "python",
   "pygments_lexer": "ipython3",
   "version": "3.10.9"
  },
  "orig_nbformat": 4
 },
 "nbformat": 4,
 "nbformat_minor": 2
}
