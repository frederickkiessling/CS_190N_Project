{
 "cells": [
  {
   "cell_type": "code",
   "execution_count": 15,
   "metadata": {},
   "outputs": [],
   "source": [
    "import pandas as pd\n",
    "import folium\n",
    "import psycopg2\n",
    "from dotenv import load_dotenv\n",
    "import folium\n",
    "import os\n"
   ]
  },
  {
   "cell_type": "code",
   "execution_count": 17,
   "metadata": {},
   "outputs": [
    {
     "name": "stdout",
     "output_type": "stream",
     "text": [
      "DB_HOST: pinot.cs.ucsb.edu\n",
      "DB_NAME: pinot\n",
      "DB_USER: cs190nf24g10\n",
      "DB_PASSWORD: YKUkr3GV\n",
      "DB_PORT: 5432\n"
     ]
    }
   ],
   "source": [
    "load_dotenv('credentials.env')\n",
    "\n",
    "# Print out the environment variables to confirm they're loaded\n",
    "print(\"DB_HOST:\", os.getenv(\"DB_HOST\"))\n",
    "print(\"DB_NAME:\", os.getenv(\"DB_NAME\"))\n",
    "print(\"DB_USER:\", os.getenv(\"DB_USER\"))\n",
    "print(\"DB_PASSWORD:\", os.getenv(\"DB_PASSWORD\"))\n",
    "print(\"DB_PORT:\", os.getenv(\"DB_PORT\"))\n",
    "\n"
   ]
  },
  {
   "cell_type": "code",
   "execution_count": 21,
   "metadata": {},
   "outputs": [
    {
     "name": "stdout",
     "output_type": "stream",
     "text": [
      "Connected successfully.\n"
     ]
    }
   ],
   "source": [
    "try:\n",
    "    conn = psycopg2.connect(\n",
    "        host=os.getenv(\"DB_HOST\"),\n",
    "        database=os.getenv(\"DB_NAME\"),\n",
    "        user=os.getenv(\"DB_USER\"),\n",
    "        password=os.getenv(\"DB_PASSWORD\"),\n",
    "        port=os.getenv(\"DB_PORT\")\n",
    "    )\n",
    "    print(\"Connected successfully.\")\n",
    "except Exception as e:\n",
    "    print(\"Failed to connect to the database.\")\n",
    "    print(\"Error:\", e)"
   ]
  },
  {
   "cell_type": "code",
   "execution_count": 22,
   "metadata": {},
   "outputs": [
    {
     "name": "stdout",
     "output_type": "stream",
     "text": [
      "('raspi-e4:5f:01:ac:ed:5b', datetime.datetime(2024, 6, 24, 2, 39, 40, 280950), -66.0, 0.0)\n",
      "('raspi-e4:5f:01:8d:ca:34', datetime.datetime(2024, 6, 24, 2, 39, 40, 281437), -65.0, 0.0)\n",
      "('raspi-e4:5f:01:9c:20:81', datetime.datetime(2024, 6, 24, 2, 39, 40, 281833), -66.0, 0.0)\n",
      "('raspi-e4:5f:01:8d:07:fe', datetime.datetime(2024, 6, 24, 2, 39, 40, 282211), -75.0, 0.0)\n",
      "('raspi-e4:5f:01:8c:8a:41', datetime.datetime(2024, 6, 24, 2, 49, 55, 886456), -51.0, 0.0)\n",
      "('raspi-e4:5f:01:56:d8:f3', datetime.datetime(2024, 6, 24, 2, 49, 55, 888764), -69.0, 0.0)\n",
      "('raspi-e4:5f:01:9c:24:87', datetime.datetime(2024, 6, 24, 2, 49, 55, 889293), -53.0, 0.0)\n",
      "('raspi-e4:5f:01:72:a4:93', datetime.datetime(2024, 6, 24, 2, 49, 55, 889729), -55.0, 0.0)\n",
      "('raspi-e4:5f:01:6c:98:83', datetime.datetime(2024, 6, 24, 2, 49, 55, 890146), -46.0, 0.0)\n",
      "('raspi-e4:5f:01:8b:bc:d9', datetime.datetime(2024, 6, 24, 2, 49, 55, 890686), -58.0, 0.0)\n",
      "('raspi-e4:5f:01:a0:4a:dd', datetime.datetime(2024, 6, 24, 2, 49, 55, 891140), -40.0, 0.0)\n",
      "('raspi-e4:5f:01:a0:4a:fb', datetime.datetime(2024, 6, 24, 2, 49, 55, 891559), -59.0, 0.0)\n",
      "('raspi-e4:5f:01:88:c5:4b', datetime.datetime(2024, 6, 24, 2, 49, 55, 892034), -60.0, 0.0)\n",
      "('raspi-e4:5f:01:84:8c:af', datetime.datetime(2024, 6, 24, 2, 49, 55, 892486), -67.0, 0.0)\n",
      "('raspi-e4:5f:01:9c:25:7d', datetime.datetime(2024, 6, 24, 2, 49, 55, 893025), -61.0, 0.0)\n",
      "('raspi-e4:5f:01:8c:e3:3f', datetime.datetime(2024, 6, 24, 2, 49, 55, 893575), -66.0, 0.0)\n",
      "('raspi-e4:5f:01:ad:c9:2a', datetime.datetime(2024, 6, 24, 2, 49, 55, 894048), -54.0, 0.0)\n",
      "('raspi-e4:5f:01:88:c4:99', datetime.datetime(2024, 6, 24, 2, 49, 55, 894507), -44.0, 0.0)\n",
      "('raspi-e4:5f:01:96:01:e8', datetime.datetime(2024, 6, 24, 2, 49, 55, 895049), -54.0, 0.0)\n",
      "('raspi-e4:5f:01:9b:84:c4', datetime.datetime(2024, 6, 24, 2, 49, 55, 895543), -63.0, 0.0)\n",
      "('raspi-e4:5f:01:72:a3:1c', datetime.datetime(2024, 6, 24, 2, 49, 55, 896936), -49.0, 0.0)\n",
      "('raspi-e4:5f:01:9c:ca:3a', datetime.datetime(2024, 6, 24, 2, 49, 55, 897481), -47.0, 0.0)\n",
      "('raspi-e4:5f:01:9b:85:9c', datetime.datetime(2024, 6, 24, 2, 49, 55, 897918), -56.0, 0.0)\n",
      "('raspi-e4:5f:01:75:6a:df', datetime.datetime(2024, 6, 24, 2, 49, 55, 898334), -52.0, 0.0)\n",
      "('raspi-e4:5f:01:a0:4f:c5', datetime.datetime(2024, 6, 24, 2, 49, 55, 898750), -58.0, 0.0)\n",
      "('raspi-e4:5f:01:84:8c:99', datetime.datetime(2024, 6, 24, 2, 49, 55, 899155), -65.0, 0.0)\n",
      "('raspi-e4:5f:01:ad:c9:11', datetime.datetime(2024, 6, 24, 2, 49, 55, 899617), -62.0, 0.0)\n",
      "('raspi-e4:5f:01:72:a2:35', datetime.datetime(2024, 6, 24, 2, 49, 55, 900065), -58.0, 0.0)\n",
      "('raspi-e4:5f:01:a0:21:49', datetime.datetime(2024, 6, 24, 2, 49, 55, 900518), -47.0, 0.0)\n",
      "('raspi-e4:5f:01:a0:32:50', datetime.datetime(2024, 6, 24, 2, 49, 55, 900964), -62.0, 0.0)\n",
      "('raspi-e4:5f:01:a7:ae:70', datetime.datetime(2024, 6, 24, 2, 49, 55, 901432), -48.0, 0.0)\n",
      "('raspi-e4:5f:01:75:71:03', datetime.datetime(2024, 6, 24, 2, 49, 55, 901937), -59.0, 0.0)\n",
      "('raspi-e4:5f:01:75:54:ec', datetime.datetime(2024, 6, 24, 2, 49, 55, 902433), -55.0, 0.0)\n",
      "('raspi-e4:5f:01:a0:4e:31', datetime.datetime(2024, 6, 24, 2, 49, 55, 902848), -65.0, 0.0)\n",
      "('raspi-e4:5f:01:ac:e4:31', datetime.datetime(2024, 6, 24, 2, 49, 55, 903245), -62.0, 0.0)\n",
      "('raspi-e4:5f:01:a0:4b:01', datetime.datetime(2024, 6, 24, 2, 49, 55, 903674), -56.0, 0.0)\n",
      "('raspi-e4:5f:01:ad:c9:3f', datetime.datetime(2024, 6, 24, 2, 49, 55, 904070), -56.0, 0.0)\n",
      "('raspi-e4:5f:01:a0:50:5f', datetime.datetime(2024, 6, 24, 2, 49, 55, 904562), -57.0, 0.0)\n",
      "('raspi-e4:5f:01:6f:ed:f3', datetime.datetime(2024, 6, 24, 2, 49, 55, 904964), -55.0, 0.0)\n",
      "('raspi-e4:5f:01:9c:20:81', datetime.datetime(2024, 6, 24, 2, 49, 55, 905383), -65.0, 0.0)\n",
      "('raspi-e4:5f:01:ac:ed:5b', datetime.datetime(2024, 6, 24, 2, 49, 55, 905887), -66.0, 0.0)\n",
      "('raspi-e4:5f:01:8d:ca:34', datetime.datetime(2024, 6, 24, 2, 49, 55, 906333), -65.0, 0.0)\n",
      "('raspi-e4:5f:01:84:b3:d2', datetime.datetime(2024, 6, 24, 2, 49, 55, 906781), -43.0, 0.0)\n",
      "('raspi-e4:5f:01:a7:b1:e5', datetime.datetime(2024, 6, 24, 2, 49, 55, 907230), -51.0, 0.0)\n",
      "('raspi-e4:5f:01:a7:b1:c1', datetime.datetime(2024, 6, 24, 2, 49, 55, 907676), -58.0, 0.0)\n",
      "('raspi-e4:5f:01:8d:07:fe', datetime.datetime(2024, 6, 24, 2, 49, 55, 908121), -75.0, 0.0)\n",
      "('raspi-e4:5f:01:8d:07:57', datetime.datetime(2024, 6, 24, 2, 49, 55, 908569), -67.0, 20.0)\n",
      "('raspi-e4:5f:01:84:b3:d2', datetime.datetime(2024, 6, 24, 3, 0, 11, 530058), -44.0, 0.0)\n",
      "('raspi-e4:5f:01:56:d8:f3', datetime.datetime(2024, 6, 24, 3, 0, 11, 532304), -70.0, 0.0)\n",
      "('raspi-e4:5f:01:8c:8a:41', datetime.datetime(2024, 6, 24, 3, 0, 11, 532961), -51.0, 0.0)\n",
      "('raspi-e4:5f:01:72:a4:93', datetime.datetime(2024, 6, 24, 3, 0, 11, 533938), -55.0, 0.0)\n",
      "('raspi-e4:5f:01:8c:e3:3f', datetime.datetime(2024, 6, 24, 3, 0, 11, 534490), -66.0, 0.0)\n",
      "('raspi-e4:5f:01:9b:85:9c', datetime.datetime(2024, 6, 24, 3, 0, 11, 534923), -57.0, 0.0)\n",
      "('raspi-e4:5f:01:a7:b1:c1', datetime.datetime(2024, 6, 24, 3, 0, 11, 535357), -57.0, 0.0)\n",
      "('raspi-e4:5f:01:6c:98:83', datetime.datetime(2024, 6, 24, 3, 0, 11, 535758), -47.0, 0.0)\n",
      "('raspi-e4:5f:01:9c:ca:3a', datetime.datetime(2024, 6, 24, 3, 0, 11, 536158), -46.0, 0.0)\n",
      "('raspi-e4:5f:01:84:8c:af', datetime.datetime(2024, 6, 24, 3, 0, 11, 536553), -64.0, 0.0)\n",
      "('raspi-e4:5f:01:a0:4a:dd', datetime.datetime(2024, 6, 24, 3, 0, 11, 536949), -38.0, 0.0)\n",
      "('raspi-e4:5f:01:8b:bc:d9', datetime.datetime(2024, 6, 24, 3, 0, 11, 537518), -61.0, 0.0)\n",
      "('raspi-e4:5f:01:75:6a:df', datetime.datetime(2024, 6, 24, 3, 0, 11, 538195), -53.0, 0.0)\n",
      "('raspi-e4:5f:01:88:c5:4b', datetime.datetime(2024, 6, 24, 3, 0, 11, 538754), -59.0, 0.0)\n",
      "('raspi-e4:5f:01:96:01:e8', datetime.datetime(2024, 6, 24, 3, 0, 11, 539986), -55.0, 0.0)\n",
      "('raspi-e4:5f:01:75:54:ec', datetime.datetime(2024, 6, 24, 3, 0, 11, 540575), -55.0, 0.0)\n",
      "('raspi-e4:5f:01:a0:4a:fb', datetime.datetime(2024, 6, 24, 3, 0, 11, 541055), -60.0, 0.0)\n",
      "('raspi-e4:5f:01:75:71:03', datetime.datetime(2024, 6, 24, 3, 0, 11, 541521), -59.0, 0.0)\n",
      "('raspi-e4:5f:01:ad:c9:2a', datetime.datetime(2024, 6, 24, 3, 0, 11, 541939), -55.0, 0.0)\n",
      "('raspi-e4:5f:01:72:a3:1c', datetime.datetime(2024, 6, 24, 3, 0, 11, 542329), -49.0, 0.0)\n",
      "('raspi-e4:5f:01:88:c4:99', datetime.datetime(2024, 6, 24, 3, 0, 11, 542730), -44.0, 0.0)\n",
      "('raspi-e4:5f:01:a0:4f:c5', datetime.datetime(2024, 6, 24, 3, 0, 11, 543110), -58.0, 0.0)\n",
      "('raspi-e4:5f:01:9b:84:c4', datetime.datetime(2024, 6, 24, 3, 0, 11, 543547), -65.0, 0.0)\n",
      "('raspi-e4:5f:01:a0:21:49', datetime.datetime(2024, 6, 24, 3, 0, 11, 543995), -47.0, 0.0)\n",
      "('raspi-e4:5f:01:ad:c9:11', datetime.datetime(2024, 6, 24, 3, 0, 11, 544377), -62.0, 0.0)\n",
      "('raspi-e4:5f:01:72:a2:35', datetime.datetime(2024, 6, 24, 3, 0, 11, 544822), -58.0, 0.0)\n",
      "('raspi-e4:5f:01:9c:25:7d', datetime.datetime(2024, 6, 24, 3, 0, 11, 545271), -61.0, 0.0)\n",
      "('raspi-e4:5f:01:ac:e4:31', datetime.datetime(2024, 6, 24, 3, 0, 11, 545753), -62.0, 0.0)\n",
      "('raspi-e4:5f:01:a7:ae:70', datetime.datetime(2024, 6, 24, 3, 0, 11, 546279), -45.0, 0.0)\n",
      "('raspi-e4:5f:01:a0:50:5f', datetime.datetime(2024, 6, 24, 3, 0, 11, 546795), -57.0, 0.0)\n",
      "('raspi-e4:5f:01:a0:4e:31', datetime.datetime(2024, 6, 24, 3, 0, 11, 547226), -65.0, 0.0)\n",
      "('raspi-e4:5f:01:84:8c:99', datetime.datetime(2024, 6, 24, 3, 0, 11, 547653), -66.0, 0.0)\n",
      "('raspi-e4:5f:01:a0:32:50', datetime.datetime(2024, 6, 24, 3, 0, 11, 548038), -62.0, 0.0)\n",
      "('raspi-e4:5f:01:9c:20:81', datetime.datetime(2024, 6, 24, 3, 0, 11, 548443), -65.0, 0.0)\n",
      "('raspi-e4:5f:01:a0:4b:01', datetime.datetime(2024, 6, 24, 3, 0, 11, 548807), -57.0, 0.0)\n",
      "('raspi-e4:5f:01:ac:ed:5b', datetime.datetime(2024, 6, 24, 3, 0, 11, 549197), -66.0, 0.0)\n",
      "('raspi-e4:5f:01:ad:c9:3f', datetime.datetime(2024, 6, 24, 3, 0, 11, 549638), -56.0, 0.0)\n",
      "('raspi-e4:5f:01:8d:07:57', datetime.datetime(2024, 6, 24, 3, 0, 11, 550082), -67.0, 0.0)\n",
      "('raspi-e4:5f:01:9c:24:87', datetime.datetime(2024, 6, 24, 3, 0, 11, 550467), -53.0, 0.0)\n",
      "('raspi-e4:5f:01:8d:07:fe', datetime.datetime(2024, 6, 24, 3, 0, 11, 550901), -75.0, 0.0)\n",
      "('raspi-e4:5f:01:8d:ca:34', datetime.datetime(2024, 6, 24, 3, 0, 11, 551326), -65.0, 0.0)\n",
      "('raspi-e4:5f:01:6f:ed:f3', datetime.datetime(2024, 6, 24, 3, 0, 11, 551764), -55.0, 0.0)\n",
      "('raspi-e4:5f:01:a7:b1:e5', datetime.datetime(2024, 6, 24, 3, 0, 11, 552187), -50.0, 0.0)\n",
      "('raspi-e4:5f:01:84:b3:d2', datetime.datetime(2024, 6, 24, 3, 10, 27, 305396), -45.0, 0.0)\n",
      "('raspi-e4:5f:01:56:d8:f3', datetime.datetime(2024, 6, 24, 3, 10, 27, 307486), -70.0, 0.0)\n",
      "('raspi-e4:5f:01:a0:4a:dd', datetime.datetime(2024, 6, 24, 3, 10, 27, 308052), -38.0, 0.0)\n",
      "('raspi-e4:5f:01:84:8c:af', datetime.datetime(2024, 6, 24, 3, 10, 27, 308573), -67.0, 0.0)\n",
      "('raspi-e4:5f:01:9c:24:87', datetime.datetime(2024, 6, 24, 3, 10, 27, 309030), -53.0, 0.0)\n",
      "('raspi-e4:5f:01:8c:8a:41', datetime.datetime(2024, 6, 24, 3, 10, 27, 309483), -51.0, 0.0)\n",
      "('raspi-e4:5f:01:88:c5:4b', datetime.datetime(2024, 6, 24, 3, 10, 27, 309892), -60.0, 0.0)\n",
      "('raspi-e4:5f:01:9b:85:9c', datetime.datetime(2024, 6, 24, 3, 10, 27, 310296), -57.0, 0.0)\n",
      "('raspi-e4:5f:01:6c:98:83', datetime.datetime(2024, 6, 24, 3, 10, 27, 310688), -46.0, 0.0)\n",
      "('raspi-e4:5f:01:72:a3:1c', datetime.datetime(2024, 6, 24, 3, 10, 27, 311148), -46.0, 0.0)\n",
      "Database connection closed.\n"
     ]
    }
   ],
   "source": [
    "try:\n",
    "    if conn is not None:\n",
    "        cur = conn.cursor()\n",
    "        query = \"SELECT label, time, signal, packet_loss FROM public.wifistats LIMIT 100;\"\n",
    "        cur.execute(query)\n",
    "        data = cur.fetchall()\n",
    "        for row in data:\n",
    "            print(row)\n",
    "        cur.close()\n",
    "    else:\n",
    "        print(\"Connection was not established.\")\n",
    "except Exception as e:\n",
    "    print(\"Error executing the query.\")\n",
    "    print(\"Error:\", e)\n",
    "finally:\n",
    "    # Check if the connection is open before trying to close it\n",
    "    if conn is not None and conn.closed == 0:\n",
    "        conn.close()\n",
    "        print(\"Database connection closed.\")"
   ]
  }
 ],
 "metadata": {
  "kernelspec": {
   "display_name": "base",
   "language": "python",
   "name": "python3"
  },
  "language_info": {
   "codemirror_mode": {
    "name": "ipython",
    "version": 3
   },
   "file_extension": ".py",
   "mimetype": "text/x-python",
   "name": "python",
   "nbconvert_exporter": "python",
   "pygments_lexer": "ipython3",
   "version": "3.10.9"
  },
  "orig_nbformat": 4
 },
 "nbformat": 4,
 "nbformat_minor": 2
}
