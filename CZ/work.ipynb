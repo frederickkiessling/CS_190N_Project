{
 "cells": [
  {
   "cell_type": "code",
   "execution_count": 1,
   "metadata": {},
   "outputs": [
    {
     "name": "stdout",
     "output_type": "stream",
     "text": [
      "Requirement already satisfied: psycopg2 in /Users/coryzhao/anaconda3/lib/python3.11/site-packages (2.9.10)\n",
      "Note: you may need to restart the kernel to use updated packages.\n",
      "Requirement already satisfied: python-dotenv in /Users/coryzhao/anaconda3/lib/python3.11/site-packages (0.21.0)\n",
      "Note: you may need to restart the kernel to use updated packages.\n"
     ]
    }
   ],
   "source": [
    "%pip install psycopg2\n",
    "%pip install python-dotenv"
   ]
  },
  {
   "cell_type": "code",
   "execution_count": 8,
   "metadata": {},
   "outputs": [],
   "source": [
    "import psycopg2\n",
    "import os\n",
    "from dotenv import load_dotenv\n",
    "\n",
    "load_dotenv()\n",
    "\n",
    "conn = psycopg2.connect(\n",
    "    host=os.getenv('DB_HOST'),\n",
    "    database=os.getenv('DB_NAME'),\n",
    "    user=os.getenv('DB_USER'),\n",
    "    password=os.getenv('DB_PASSWORD'),\n",
    "    port=os.getenv('DB_PORT')\n",
    ")"
   ]
  },
  {
   "cell_type": "code",
   "execution_count": 9,
   "metadata": {},
   "outputs": [
    {
     "name": "stdout",
     "output_type": "stream",
     "text": [
      "('raspi-e4:5f:01:75:54:ec', datetime.datetime(2024, 9, 2, 19, 54, 33, 309167), 'rtt min/avg/max/mdev = 3.509/3.693/3.975/0.181 ms', -55.0, '65.0 MBit/s', '58.5 MBit/s', '977172 seconds', 0.0)\n",
      "('raspi-e4:5f:01:6f:ef:6a', datetime.datetime(2024, 9, 2, 19, 54, 33, 309691), 'rtt min/avg/max/mdev = 2.719/3.193/4.192/0.521 ms', -40.0, '65.0 MBit/s', '72.2 MBit/s', '2207311 seconds', 0.0)\n",
      "('raspi-e4:5f:01:a0:21:49', datetime.datetime(2024, 9, 2, 19, 54, 33, 310159), 'rtt min/avg/max/mdev = 2.704/3.127/3.455/0.250 ms', -50.0, '65.0 MBit/s', '72.2 MBit/s', '545068 seconds', 0.0)\n",
      "('raspi-e4:5f:01:ad:c9:11', datetime.datetime(2024, 9, 2, 19, 54, 33, 310550), 'rtt min/avg/max/mdev = 4.326/4.511/4.742/0.186 ms', -57.0, '180.0 MBit/s', '200.0 MBit/s', '1147995 seconds', 0.0)\n",
      "('raspi-e4:5f:01:72:a3:1c', datetime.datetime(2024, 9, 2, 19, 54, 33, 310927), 'rtt min/avg/max/mdev = 2.726/3.290/4.968/0.849 ms', -51.0, '200.0 MBit/s', '200.0 MBit/s', '196845 seconds', 0.0)\n",
      "('raspi-e4:5f:01:ad:c9:3f', datetime.datetime(2024, 9, 2, 19, 54, 33, 311306), 'rtt min/avg/max/mdev = 3.254/4.438/5.204/0.783 ms', -44.0, '200.0 MBit/s', '200.0 MBit/s', '2199439 seconds', 0.0)\n",
      "('raspi-e4:5f:01:72:a2:35', datetime.datetime(2024, 9, 2, 19, 54, 33, 311686), 'rtt min/avg/max/mdev = 2.965/16.698/69.823/26.568 ms', -56.0, '65.0 MBit/s', '72.2 MBit/s', '1148626 seconds', 0.0)\n",
      "('raspi-e4:5f:01:8b:bc:d9', datetime.datetime(2024, 9, 2, 19, 54, 33, 312080), 'rtt min/avg/max/mdev = 3.002/3.349/3.646/0.235 ms', -55.0, '180.0 MBit/s', '200.0 MBit/s', '2199039 seconds', 0.0)\n",
      "('raspi-e4:5f:01:a0:32:50', datetime.datetime(2024, 9, 2, 19, 54, 33, 312465), 'rtt min/avg/max/mdev = 2.564/5.778/14.779/4.551 ms', -62.0, '28.8 MBit/s', '28.8 MBit/s', '372590 seconds', 0.0)\n",
      "('raspi-e4:5f:01:84:b2:b2', datetime.datetime(2024, 9, 2, 19, 54, 33, 312900), 'rtt min/avg/max/mdev = 3.065/29.555/66.277/22.131 ms', -42.0, '72.2 MBit/s', '72.2 MBit/s', '2202684 seconds', 0.0)\n",
      "('raspi-e4:5f:01:6f:ed:f3', datetime.datetime(2024, 9, 2, 19, 54, 33, 313343), 'rtt min/avg/max/mdev = 3.158/4.280/5.786/0.982 ms', -55.0, '72.2 MBit/s', '65.0 MBit/s', '2289560 seconds', 0.0)\n",
      "('raspi-e4:5f:01:56:d8:f3', datetime.datetime(2024, 9, 2, 19, 54, 33, 313802), 'rtt min/avg/max/mdev = 1.498/1.639/1.934/0.171 ms', -64.0, '52.0 MBit/s', '26.0 MBit/s', '114644 seconds', 0.0)\n",
      "('raspi-e4:5f:01:a7:b1:e5', datetime.datetime(2024, 9, 2, 19, 54, 33, 314218), 'rtt min/avg/max/mdev = 4.076/5.131/6.564/1.040 ms', -53.0, '180.0 MBit/s', '180.0 MBit/s', '2200955 seconds', 0.0)\n",
      "('raspi-e4:5f:01:8d:c9:0d', datetime.datetime(2024, 9, 2, 19, 54, 33, 314647), 'rtt min/avg/max/mdev = 3.017/4.122/5.266/0.836 ms', -51.0, '65.0 MBit/s', '72.2 MBit/s', '2205471 seconds', 0.0)\n",
      "('raspi-e4:5f:01:a7:b1:c1', datetime.datetime(2024, 9, 2, 19, 54, 33, 315070), 'rtt min/avg/max/mdev = 3.129/3.797/4.176/0.389 ms', -61.0, '72.2 MBit/s', '58.5 MBit/s', '1127371 seconds', 0.0)\n"
     ]
    }
   ],
   "source": [
    "cur = conn.cursor()\n",
    "\n",
    "query = \"SELECT * FROM public.wifistats LIMIT 15\"\n",
    "\n",
    "cur.execute(query)\n",
    "\n",
    "rows = cur.fetchall()\n",
    "\n",
    "for row in rows:\n",
    "    print(row)"
   ]
  },
  {
   "cell_type": "code",
   "execution_count": 10,
   "metadata": {},
   "outputs": [],
   "source": [
    "cur.close()\n",
    "conn.close()"
   ]
  }
 ],
 "metadata": {
  "kernelspec": {
   "display_name": "base",
   "language": "python",
   "name": "python3"
  },
  "language_info": {
   "codemirror_mode": {
    "name": "ipython",
    "version": 3
   },
   "file_extension": ".py",
   "mimetype": "text/x-python",
   "name": "python",
   "nbconvert_exporter": "python",
   "pygments_lexer": "ipython3",
   "version": "3.11.5"
  }
 },
 "nbformat": 4,
 "nbformat_minor": 2
}
