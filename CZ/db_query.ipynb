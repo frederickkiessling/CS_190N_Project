{
 "cells": [
  {
   "cell_type": "code",
   "execution_count": 1,
   "metadata": {},
   "outputs": [
    {
     "name": "stdout",
     "output_type": "stream",
     "text": [
      "Requirement already satisfied: psycopg2 in /Users/coryzhao/anaconda3/lib/python3.11/site-packages (2.9.10)\n",
      "Note: you may need to restart the kernel to use updated packages.\n",
      "Requirement already satisfied: python-dotenv in /Users/coryzhao/anaconda3/lib/python3.11/site-packages (0.21.0)\n",
      "Note: you may need to restart the kernel to use updated packages.\n"
     ]
    }
   ],
   "source": [
    "%pip install psycopg2\n",
    "%pip install python-dotenv"
   ]
  },
  {
   "cell_type": "code",
   "execution_count": 14,
   "metadata": {},
   "outputs": [],
   "source": [
    "import psycopg2\n",
    "import os\n",
    "from dotenv import load_dotenv\n",
    "import numpy as np\n",
    "import pandas as pd\n",
    "\n",
    "%matplotlib inline\n",
    "\n",
    "pd.set_option(\"display.max_rows\", None)\n",
    "pd.set_option(\"display.max_columns\", None)\n",
    "\n",
    "data_dir_path = \"data\"\n",
    "if not os.path.exists(data_dir_path):\n",
    "    os.makedirs(data_dir_path)"
   ]
  },
  {
   "cell_type": "markdown",
   "metadata": {},
   "source": [
    "# Connect to DB"
   ]
  },
  {
   "cell_type": "code",
   "execution_count": 3,
   "metadata": {},
   "outputs": [],
   "source": [
    "load_dotenv()\n",
    "conn = psycopg2.connect(\n",
    "    host=os.getenv(\"DB_HOST\"),\n",
    "    database=os.getenv(\"DB_NAME\"),\n",
    "    user=os.getenv(\"DB_USER\"),\n",
    "    password=os.getenv(\"DB_PASSWORD\"),\n",
    "    port=os.getenv(\"DB_PORT\"),\n",
    ")\n",
    "cur = conn.cursor()"
   ]
  },
  {
   "cell_type": "markdown",
   "metadata": {},
   "source": [
    "# Wifi Stats Data Preprocessing"
   ]
  },
  {
   "cell_type": "code",
   "execution_count": 4,
   "metadata": {},
   "outputs": [],
   "source": [
    "query = \"SELECT * FROM public.wifistats\"\n",
    "cur.execute(query)\n",
    "data = cur.fetchall()"
   ]
  },
  {
   "cell_type": "code",
   "execution_count": 5,
   "metadata": {},
   "outputs": [
    {
     "data": {
      "text/html": [
       "<div>\n",
       "<style scoped>\n",
       "    .dataframe tbody tr th:only-of-type {\n",
       "        vertical-align: middle;\n",
       "    }\n",
       "\n",
       "    .dataframe tbody tr th {\n",
       "        vertical-align: top;\n",
       "    }\n",
       "\n",
       "    .dataframe thead th {\n",
       "        text-align: right;\n",
       "    }\n",
       "</style>\n",
       "<table border=\"1\" class=\"dataframe\">\n",
       "  <thead>\n",
       "    <tr style=\"text-align: right;\">\n",
       "      <th></th>\n",
       "      <th>label</th>\n",
       "      <th>time</th>\n",
       "      <th>signal (dBm)</th>\n",
       "      <th>packet_loss</th>\n",
       "      <th>connected_time (s)</th>\n",
       "      <th>tx_bitrate (MBit/s)</th>\n",
       "      <th>rx_bitrate (MBit/s)</th>\n",
       "      <th>min_ping_rtt (ms)</th>\n",
       "      <th>avg_ping_rtt (ms)</th>\n",
       "      <th>max_ping_rtt (ms)</th>\n",
       "      <th>mdev_ping_rtt (ms)</th>\n",
       "    </tr>\n",
       "  </thead>\n",
       "  <tbody>\n",
       "    <tr>\n",
       "      <th>0</th>\n",
       "      <td>raspi-e4:5f:01:72:a4:93</td>\n",
       "      <td>2023-10-27 17:30:59.941150</td>\n",
       "      <td>-61.0</td>\n",
       "      <td>0.0</td>\n",
       "      <td>1483.0</td>\n",
       "      <td>180.0</td>\n",
       "      <td>180.0</td>\n",
       "      <td>3.151</td>\n",
       "      <td>4.908</td>\n",
       "      <td>5.733</td>\n",
       "      <td>0.970</td>\n",
       "    </tr>\n",
       "    <tr>\n",
       "      <th>1</th>\n",
       "      <td>raspi-e4:5f:01:ac:ed:5b</td>\n",
       "      <td>2023-10-27 17:30:59.941707</td>\n",
       "      <td>-59.0</td>\n",
       "      <td>0.0</td>\n",
       "      <td>19319.0</td>\n",
       "      <td>65.0</td>\n",
       "      <td>65.0</td>\n",
       "      <td>3.430</td>\n",
       "      <td>4.660</td>\n",
       "      <td>5.737</td>\n",
       "      <td>0.942</td>\n",
       "    </tr>\n",
       "    <tr>\n",
       "      <th>2</th>\n",
       "      <td>raspi-e4:5f:01:a0:21:49</td>\n",
       "      <td>2023-10-27 17:30:59.942179</td>\n",
       "      <td>-46.0</td>\n",
       "      <td>0.0</td>\n",
       "      <td>66621.0</td>\n",
       "      <td>72.2</td>\n",
       "      <td>72.2</td>\n",
       "      <td>3.602</td>\n",
       "      <td>3.948</td>\n",
       "      <td>4.238</td>\n",
       "      <td>0.224</td>\n",
       "    </tr>\n",
       "    <tr>\n",
       "      <th>3</th>\n",
       "      <td>raspi-e4:5f:01:a0:4b:01</td>\n",
       "      <td>2023-10-27 17:30:59.942646</td>\n",
       "      <td>-53.0</td>\n",
       "      <td>0.0</td>\n",
       "      <td>19409.0</td>\n",
       "      <td>72.2</td>\n",
       "      <td>58.5</td>\n",
       "      <td>3.984</td>\n",
       "      <td>6.634</td>\n",
       "      <td>15.219</td>\n",
       "      <td>4.311</td>\n",
       "    </tr>\n",
       "    <tr>\n",
       "      <th>4</th>\n",
       "      <td>raspi-e4:5f:01:75:54:ec</td>\n",
       "      <td>2023-10-27 17:30:59.943151</td>\n",
       "      <td>-54.0</td>\n",
       "      <td>0.0</td>\n",
       "      <td>19473.0</td>\n",
       "      <td>72.2</td>\n",
       "      <td>58.5</td>\n",
       "      <td>3.081</td>\n",
       "      <td>3.801</td>\n",
       "      <td>6.149</td>\n",
       "      <td>1.178</td>\n",
       "    </tr>\n",
       "  </tbody>\n",
       "</table>\n",
       "</div>"
      ],
      "text/plain": [
       "                     label                       time  signal (dBm)  \\\n",
       "0  raspi-e4:5f:01:72:a4:93 2023-10-27 17:30:59.941150         -61.0   \n",
       "1  raspi-e4:5f:01:ac:ed:5b 2023-10-27 17:30:59.941707         -59.0   \n",
       "2  raspi-e4:5f:01:a0:21:49 2023-10-27 17:30:59.942179         -46.0   \n",
       "3  raspi-e4:5f:01:a0:4b:01 2023-10-27 17:30:59.942646         -53.0   \n",
       "4  raspi-e4:5f:01:75:54:ec 2023-10-27 17:30:59.943151         -54.0   \n",
       "\n",
       "   packet_loss  connected_time (s)  tx_bitrate (MBit/s)  rx_bitrate (MBit/s)  \\\n",
       "0          0.0              1483.0                180.0                180.0   \n",
       "1          0.0             19319.0                 65.0                 65.0   \n",
       "2          0.0             66621.0                 72.2                 72.2   \n",
       "3          0.0             19409.0                 72.2                 58.5   \n",
       "4          0.0             19473.0                 72.2                 58.5   \n",
       "\n",
       "   min_ping_rtt (ms)  avg_ping_rtt (ms)  max_ping_rtt (ms)  mdev_ping_rtt (ms)  \n",
       "0              3.151              4.908              5.733               0.970  \n",
       "1              3.430              4.660              5.737               0.942  \n",
       "2              3.602              3.948              4.238               0.224  \n",
       "3              3.984              6.634             15.219               4.311  \n",
       "4              3.081              3.801              6.149               1.178  "
      ]
     },
     "metadata": {},
     "output_type": "display_data"
    }
   ],
   "source": [
    "wifi_df = pd.DataFrame(\n",
    "    data,\n",
    "    columns=[\n",
    "        \"label\",\n",
    "        \"time\",\n",
    "        \"ping_str\",\n",
    "        \"signal (dBm)\",\n",
    "        \"tx_bitrate_str\",\n",
    "        \"rx_bitrate_str\",\n",
    "        \"connected_time_str\",\n",
    "        \"packet_loss\",\n",
    "    ],\n",
    ")\n",
    "\n",
    "wifi_df[\"connected_time (s)\"] = (\n",
    "    wifi_df[\"connected_time_str\"].str.split(\" \", expand=True)[0].astype(float)\n",
    ")\n",
    "wifi_df[\"tx_bitrate (MBit/s)\"] = (\n",
    "    wifi_df[\"tx_bitrate_str\"].str.split(\" \", expand=True)[0].astype(float)\n",
    ")\n",
    "wifi_df[\"rx_bitrate (MBit/s)\"] = (\n",
    "    wifi_df[\"rx_bitrate_str\"].str.split(\" \", expand=True)[0].astype(float)\n",
    ")\n",
    "\n",
    "pattern = r\"min/avg/max/mdev = ([\\d\\.]+)/([\\d\\.]+)/([\\d\\.]+)/([\\d\\.]+) ms\"\n",
    "extracted_values = wifi_df[\"ping_str\"].str.extract(pattern).astype(float)\n",
    "extracted_values.columns = [\n",
    "    \"min_ping_rtt (ms)\",\n",
    "    \"avg_ping_rtt (ms)\",\n",
    "    \"max_ping_rtt (ms)\",\n",
    "    \"mdev_ping_rtt (ms)\",\n",
    "]\n",
    "\n",
    "wifi_df = pd.concat([wifi_df, extracted_values], axis=1)\n",
    "wifi_df = wifi_df.drop(\n",
    "    [\"connected_time_str\", \"tx_bitrate_str\", \"rx_bitrate_str\", \"ping_str\"], axis=1\n",
    ")\n",
    "\n",
    "wifi_df.to_csv(\"./data/wifistats.csv\", index=False)\n",
    "\n",
    "display(wifi_df.head())"
   ]
  },
  {
   "cell_type": "markdown",
   "metadata": {},
   "source": [
    "# Device Data Preprocessing"
   ]
  },
  {
   "cell_type": "code",
   "execution_count": 6,
   "metadata": {},
   "outputs": [],
   "source": [
    "query = \"SELECT * FROM public.devices\"\n",
    "cur.execute(query)\n",
    "data = cur.fetchall()"
   ]
  },
  {
   "cell_type": "code",
   "execution_count": 11,
   "metadata": {},
   "outputs": [
    {
     "ename": "ValueError",
     "evalue": "10 columns passed, passed data had 5 columns",
     "output_type": "error",
     "traceback": [
      "\u001b[0;31m---------------------------------------------------------------------------\u001b[0m",
      "\u001b[0;31mAssertionError\u001b[0m                            Traceback (most recent call last)",
      "File \u001b[0;32m~/anaconda3/lib/python3.11/site-packages/pandas/core/internals/construction.py:934\u001b[0m, in \u001b[0;36m_finalize_columns_and_data\u001b[0;34m(content, columns, dtype)\u001b[0m\n\u001b[1;32m    933\u001b[0m \u001b[38;5;28;01mtry\u001b[39;00m:\n\u001b[0;32m--> 934\u001b[0m     columns \u001b[38;5;241m=\u001b[39m _validate_or_indexify_columns(contents, columns)\n\u001b[1;32m    935\u001b[0m \u001b[38;5;28;01mexcept\u001b[39;00m \u001b[38;5;167;01mAssertionError\u001b[39;00m \u001b[38;5;28;01mas\u001b[39;00m err:\n\u001b[1;32m    936\u001b[0m     \u001b[38;5;66;03m# GH#26429 do not raise user-facing AssertionError\u001b[39;00m\n",
      "File \u001b[0;32m~/anaconda3/lib/python3.11/site-packages/pandas/core/internals/construction.py:981\u001b[0m, in \u001b[0;36m_validate_or_indexify_columns\u001b[0;34m(content, columns)\u001b[0m\n\u001b[1;32m    979\u001b[0m \u001b[38;5;28;01mif\u001b[39;00m \u001b[38;5;129;01mnot\u001b[39;00m is_mi_list \u001b[38;5;129;01mand\u001b[39;00m \u001b[38;5;28mlen\u001b[39m(columns) \u001b[38;5;241m!=\u001b[39m \u001b[38;5;28mlen\u001b[39m(content):  \u001b[38;5;66;03m# pragma: no cover\u001b[39;00m\n\u001b[1;32m    980\u001b[0m     \u001b[38;5;66;03m# caller's responsibility to check for this...\u001b[39;00m\n\u001b[0;32m--> 981\u001b[0m     \u001b[38;5;28;01mraise\u001b[39;00m \u001b[38;5;167;01mAssertionError\u001b[39;00m(\n\u001b[1;32m    982\u001b[0m         \u001b[38;5;124mf\u001b[39m\u001b[38;5;124m\"\u001b[39m\u001b[38;5;132;01m{\u001b[39;00m\u001b[38;5;28mlen\u001b[39m(columns)\u001b[38;5;132;01m}\u001b[39;00m\u001b[38;5;124m columns passed, passed data had \u001b[39m\u001b[38;5;124m\"\u001b[39m\n\u001b[1;32m    983\u001b[0m         \u001b[38;5;124mf\u001b[39m\u001b[38;5;124m\"\u001b[39m\u001b[38;5;132;01m{\u001b[39;00m\u001b[38;5;28mlen\u001b[39m(content)\u001b[38;5;132;01m}\u001b[39;00m\u001b[38;5;124m columns\u001b[39m\u001b[38;5;124m\"\u001b[39m\n\u001b[1;32m    984\u001b[0m     )\n\u001b[1;32m    985\u001b[0m \u001b[38;5;28;01mif\u001b[39;00m is_mi_list:\n\u001b[1;32m    986\u001b[0m     \u001b[38;5;66;03m# check if nested list column, length of each sub-list should be equal\u001b[39;00m\n",
      "\u001b[0;31mAssertionError\u001b[0m: 10 columns passed, passed data had 5 columns",
      "\nThe above exception was the direct cause of the following exception:\n",
      "\u001b[0;31mValueError\u001b[0m                                Traceback (most recent call last)",
      "Cell \u001b[0;32mIn[11], line 1\u001b[0m\n\u001b[0;32m----> 1\u001b[0m devices_df \u001b[38;5;241m=\u001b[39m pd\u001b[38;5;241m.\u001b[39mDataFrame(\n\u001b[1;32m      2\u001b[0m     data,\n\u001b[1;32m      3\u001b[0m     columns\u001b[38;5;241m=\u001b[39m[\n\u001b[1;32m      4\u001b[0m         \u001b[38;5;124m\"\u001b[39m\u001b[38;5;124mlabel\u001b[39m\u001b[38;5;124m\"\u001b[39m,\n\u001b[1;32m      5\u001b[0m         \u001b[38;5;124m\"\u001b[39m\u001b[38;5;124methernet_mac\u001b[39m\u001b[38;5;124m\"\u001b[39m,\n\u001b[1;32m      6\u001b[0m         \u001b[38;5;124m\"\u001b[39m\u001b[38;5;124mwlan_mac\u001b[39m\u001b[38;5;124m\"\u001b[39m,\n\u001b[1;32m      7\u001b[0m         \u001b[38;5;124m\"\u001b[39m\u001b[38;5;124mlocation\u001b[39m\u001b[38;5;124m\"\u001b[39m,\n\u001b[1;32m      8\u001b[0m         \u001b[38;5;124m\"\u001b[39m\u001b[38;5;124mtags\u001b[39m\u001b[38;5;124m\"\u001b[39m,\n\u001b[1;32m      9\u001b[0m         \u001b[38;5;124m\"\u001b[39m\u001b[38;5;124mcomment\u001b[39m\u001b[38;5;124m\"\u001b[39m,\n\u001b[1;32m     10\u001b[0m         \u001b[38;5;124m\"\u001b[39m\u001b[38;5;124muptime\u001b[39m\u001b[38;5;124m\"\u001b[39m,\n\u001b[1;32m     11\u001b[0m         \u001b[38;5;124m\"\u001b[39m\u001b[38;5;124mwireless_bytes\u001b[39m\u001b[38;5;124m\"\u001b[39m,\n\u001b[1;32m     12\u001b[0m         \u001b[38;5;124m\"\u001b[39m\u001b[38;5;124mwired_bytes\u001b[39m\u001b[38;5;124m\"\u001b[39m,\n\u001b[1;32m     13\u001b[0m         \u001b[38;5;124m\"\u001b[39m\u001b[38;5;124mlast_seen\u001b[39m\u001b[38;5;124m\"\u001b[39m,\n\u001b[1;32m     14\u001b[0m     ],\n\u001b[1;32m     15\u001b[0m )\n\u001b[1;32m     17\u001b[0m devices_df\u001b[38;5;241m.\u001b[39mto_csv(\u001b[38;5;124m\"\u001b[39m\u001b[38;5;124m./data/devices.csv\u001b[39m\u001b[38;5;124m\"\u001b[39m, index\u001b[38;5;241m=\u001b[39m\u001b[38;5;28;01mFalse\u001b[39;00m)\n\u001b[1;32m     19\u001b[0m display(devices_df\u001b[38;5;241m.\u001b[39mhead())\n",
      "File \u001b[0;32m~/anaconda3/lib/python3.11/site-packages/pandas/core/frame.py:782\u001b[0m, in \u001b[0;36mDataFrame.__init__\u001b[0;34m(self, data, index, columns, dtype, copy)\u001b[0m\n\u001b[1;32m    780\u001b[0m     \u001b[38;5;28;01mif\u001b[39;00m columns \u001b[38;5;129;01mis\u001b[39;00m \u001b[38;5;129;01mnot\u001b[39;00m \u001b[38;5;28;01mNone\u001b[39;00m:\n\u001b[1;32m    781\u001b[0m         columns \u001b[38;5;241m=\u001b[39m ensure_index(columns)\n\u001b[0;32m--> 782\u001b[0m     arrays, columns, index \u001b[38;5;241m=\u001b[39m nested_data_to_arrays(\n\u001b[1;32m    783\u001b[0m         \u001b[38;5;66;03m# error: Argument 3 to \"nested_data_to_arrays\" has incompatible\u001b[39;00m\n\u001b[1;32m    784\u001b[0m         \u001b[38;5;66;03m# type \"Optional[Collection[Any]]\"; expected \"Optional[Index]\"\u001b[39;00m\n\u001b[1;32m    785\u001b[0m         data,\n\u001b[1;32m    786\u001b[0m         columns,\n\u001b[1;32m    787\u001b[0m         index,  \u001b[38;5;66;03m# type: ignore[arg-type]\u001b[39;00m\n\u001b[1;32m    788\u001b[0m         dtype,\n\u001b[1;32m    789\u001b[0m     )\n\u001b[1;32m    790\u001b[0m     mgr \u001b[38;5;241m=\u001b[39m arrays_to_mgr(\n\u001b[1;32m    791\u001b[0m         arrays,\n\u001b[1;32m    792\u001b[0m         columns,\n\u001b[0;32m   (...)\u001b[0m\n\u001b[1;32m    795\u001b[0m         typ\u001b[38;5;241m=\u001b[39mmanager,\n\u001b[1;32m    796\u001b[0m     )\n\u001b[1;32m    797\u001b[0m \u001b[38;5;28;01melse\u001b[39;00m:\n",
      "File \u001b[0;32m~/anaconda3/lib/python3.11/site-packages/pandas/core/internals/construction.py:498\u001b[0m, in \u001b[0;36mnested_data_to_arrays\u001b[0;34m(data, columns, index, dtype)\u001b[0m\n\u001b[1;32m    495\u001b[0m \u001b[38;5;28;01mif\u001b[39;00m is_named_tuple(data[\u001b[38;5;241m0\u001b[39m]) \u001b[38;5;129;01mand\u001b[39;00m columns \u001b[38;5;129;01mis\u001b[39;00m \u001b[38;5;28;01mNone\u001b[39;00m:\n\u001b[1;32m    496\u001b[0m     columns \u001b[38;5;241m=\u001b[39m ensure_index(data[\u001b[38;5;241m0\u001b[39m]\u001b[38;5;241m.\u001b[39m_fields)\n\u001b[0;32m--> 498\u001b[0m arrays, columns \u001b[38;5;241m=\u001b[39m to_arrays(data, columns, dtype\u001b[38;5;241m=\u001b[39mdtype)\n\u001b[1;32m    499\u001b[0m columns \u001b[38;5;241m=\u001b[39m ensure_index(columns)\n\u001b[1;32m    501\u001b[0m \u001b[38;5;28;01mif\u001b[39;00m index \u001b[38;5;129;01mis\u001b[39;00m \u001b[38;5;28;01mNone\u001b[39;00m:\n",
      "File \u001b[0;32m~/anaconda3/lib/python3.11/site-packages/pandas/core/internals/construction.py:840\u001b[0m, in \u001b[0;36mto_arrays\u001b[0;34m(data, columns, dtype)\u001b[0m\n\u001b[1;32m    837\u001b[0m     data \u001b[38;5;241m=\u001b[39m [\u001b[38;5;28mtuple\u001b[39m(x) \u001b[38;5;28;01mfor\u001b[39;00m x \u001b[38;5;129;01min\u001b[39;00m data]\n\u001b[1;32m    838\u001b[0m     arr \u001b[38;5;241m=\u001b[39m _list_to_arrays(data)\n\u001b[0;32m--> 840\u001b[0m content, columns \u001b[38;5;241m=\u001b[39m _finalize_columns_and_data(arr, columns, dtype)\n\u001b[1;32m    841\u001b[0m \u001b[38;5;28;01mreturn\u001b[39;00m content, columns\n",
      "File \u001b[0;32m~/anaconda3/lib/python3.11/site-packages/pandas/core/internals/construction.py:937\u001b[0m, in \u001b[0;36m_finalize_columns_and_data\u001b[0;34m(content, columns, dtype)\u001b[0m\n\u001b[1;32m    934\u001b[0m     columns \u001b[38;5;241m=\u001b[39m _validate_or_indexify_columns(contents, columns)\n\u001b[1;32m    935\u001b[0m \u001b[38;5;28;01mexcept\u001b[39;00m \u001b[38;5;167;01mAssertionError\u001b[39;00m \u001b[38;5;28;01mas\u001b[39;00m err:\n\u001b[1;32m    936\u001b[0m     \u001b[38;5;66;03m# GH#26429 do not raise user-facing AssertionError\u001b[39;00m\n\u001b[0;32m--> 937\u001b[0m     \u001b[38;5;28;01mraise\u001b[39;00m \u001b[38;5;167;01mValueError\u001b[39;00m(err) \u001b[38;5;28;01mfrom\u001b[39;00m \u001b[38;5;21;01merr\u001b[39;00m\n\u001b[1;32m    939\u001b[0m \u001b[38;5;28;01mif\u001b[39;00m \u001b[38;5;28mlen\u001b[39m(contents) \u001b[38;5;129;01mand\u001b[39;00m contents[\u001b[38;5;241m0\u001b[39m]\u001b[38;5;241m.\u001b[39mdtype \u001b[38;5;241m==\u001b[39m np\u001b[38;5;241m.\u001b[39mobject_:\n\u001b[1;32m    940\u001b[0m     contents \u001b[38;5;241m=\u001b[39m convert_object_array(contents, dtype\u001b[38;5;241m=\u001b[39mdtype)\n",
      "\u001b[0;31mValueError\u001b[0m: 10 columns passed, passed data had 5 columns"
     ]
    }
   ],
   "source": [
    "devices_df = pd.DataFrame(\n",
    "    data,\n",
    "    columns=[\n",
    "        \"label\",\n",
    "        \"ethernet_mac\",\n",
    "        \"wlan_mac\",\n",
    "        \"location\",\n",
    "        \"tags\",\n",
    "        \"comment\",\n",
    "        \"uptime\",\n",
    "        \"wireless_bytes\",\n",
    "        \"wired_bytes\",\n",
    "        \"last_seen\",\n",
    "    ],\n",
    ")\n",
    "\n",
    "devices_df.to_csv(\"./data/devices.csv\", index=False)\n",
    "\n",
    "display(devices_df.head())"
   ]
  },
  {
   "cell_type": "markdown",
   "metadata": {},
   "source": [
    "# Extra Info Data Preprocessing"
   ]
  },
  {
   "cell_type": "code",
   "execution_count": 8,
   "metadata": {},
   "outputs": [],
   "source": [
    "query = \"SELECT * FROM public.extra_info\"\n",
    "cur.execute(query)\n",
    "data = cur.fetchall()"
   ]
  },
  {
   "cell_type": "code",
   "execution_count": 9,
   "metadata": {},
   "outputs": [
    {
     "data": {
      "text/html": [
       "<div>\n",
       "<style scoped>\n",
       "    .dataframe tbody tr th:only-of-type {\n",
       "        vertical-align: middle;\n",
       "    }\n",
       "\n",
       "    .dataframe tbody tr th {\n",
       "        vertical-align: top;\n",
       "    }\n",
       "\n",
       "    .dataframe thead th {\n",
       "        text-align: right;\n",
       "    }\n",
       "</style>\n",
       "<table border=\"1\" class=\"dataframe\">\n",
       "  <thead>\n",
       "    <tr style=\"text-align: right;\">\n",
       "      <th></th>\n",
       "      <th>label</th>\n",
       "      <th>latitude</th>\n",
       "      <th>longitude</th>\n",
       "    </tr>\n",
       "  </thead>\n",
       "  <tbody>\n",
       "    <tr>\n",
       "      <th>0</th>\n",
       "      <td>raspi-e4:5f:01:75:6b:2c</td>\n",
       "      <td>34.41773457866324</td>\n",
       "      <td>-119.8546902810392</td>\n",
       "    </tr>\n",
       "    <tr>\n",
       "      <th>1</th>\n",
       "      <td>raspi-e4:5f:01:8e:27:aa</td>\n",
       "      <td>34.409574095820076</td>\n",
       "      <td>-119.85180308648167</td>\n",
       "    </tr>\n",
       "    <tr>\n",
       "      <th>2</th>\n",
       "      <td>raspi-e4:5f:01:a7:b2:7e</td>\n",
       "      <td>34.409548306773345</td>\n",
       "      <td>-119.85153880818854</td>\n",
       "    </tr>\n",
       "    <tr>\n",
       "      <th>3</th>\n",
       "      <td>raspi-e4:5f:01:75:54:04</td>\n",
       "      <td>34.418302607166105</td>\n",
       "      <td>-119.85669070847874</td>\n",
       "    </tr>\n",
       "    <tr>\n",
       "      <th>4</th>\n",
       "      <td>raspi-e4:5f:01:9b:84:c4</td>\n",
       "      <td>34.408679667265304</td>\n",
       "      <td>-119.85184124971644</td>\n",
       "    </tr>\n",
       "  </tbody>\n",
       "</table>\n",
       "</div>"
      ],
      "text/plain": [
       "                     label            latitude            longitude\n",
       "0  raspi-e4:5f:01:75:6b:2c   34.41773457866324   -119.8546902810392\n",
       "1  raspi-e4:5f:01:8e:27:aa  34.409574095820076  -119.85180308648167\n",
       "2  raspi-e4:5f:01:a7:b2:7e  34.409548306773345  -119.85153880818854\n",
       "3  raspi-e4:5f:01:75:54:04  34.418302607166105  -119.85669070847874\n",
       "4  raspi-e4:5f:01:9b:84:c4  34.408679667265304  -119.85184124971644"
      ]
     },
     "metadata": {},
     "output_type": "display_data"
    }
   ],
   "source": [
    "extra_info_df = pd.DataFrame(\n",
    "    data,\n",
    "    columns=[\n",
    "        \"label\",\n",
    "        \"comment\",\n",
    "        \"contact_person\",\n",
    "        \"latitude\",\n",
    "        \"longitude\",\n",
    "    ],\n",
    ")\n",
    "\n",
    "extra_info_df[\"latitude\"].replace(\"None\", np.nan, inplace=True)\n",
    "extra_info_df[\"longitude\"].replace(\"None\", np.nan, inplace=True)\n",
    "extra_info_df = extra_info_df.dropna(subset=[\"latitude\", \"longitude\"]).reset_index(\n",
    "    drop=True\n",
    ")\n",
    "extra_info_df = extra_info_df.drop([\"comment\", \"contact_person\"], axis=1)\n",
    "\n",
    "extra_info_df.to_csv(\"./data/extra_info.csv\", index=False)\n",
    "\n",
    "display(extra_info_df.head())"
   ]
  },
  {
   "cell_type": "markdown",
   "metadata": {},
   "source": [
    "# Close DB connection"
   ]
  },
  {
   "cell_type": "code",
   "execution_count": 10,
   "metadata": {},
   "outputs": [],
   "source": [
    "cur.close()\n",
    "conn.close()"
   ]
  }
 ],
 "metadata": {
  "kernelspec": {
   "display_name": "base",
   "language": "python",
   "name": "python3"
  },
  "language_info": {
   "codemirror_mode": {
    "name": "ipython",
    "version": 3
   },
   "file_extension": ".py",
   "mimetype": "text/x-python",
   "name": "python",
   "nbconvert_exporter": "python",
   "pygments_lexer": "ipython3",
   "version": "3.11.5"
  }
 },
 "nbformat": 4,
 "nbformat_minor": 2
}
